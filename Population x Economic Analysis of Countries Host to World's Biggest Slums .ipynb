{
 "cells": [
  {
   "cell_type": "markdown",
   "metadata": {},
   "source": [
    "### Background\n",
    "\n",
    "#### Urban migration and city development rates are increasing rapidly around the world. However, while governments invest heavily into programs that pose high returns on investment, slum settlements, a dimension of urbanization that is in need of the most support, are seldom considered. \n",
    "\n",
    "#### As populations increasingly flock to cities, inhabitants of rural regions are pressured to follow the same trajectory for economic opportunity. However, due to rapid population booms, the demand for housing often exceeds that which the cities can supply. The market is competitive and housing costs are often unaffordable to the lower income bracket of migrants. This has given rise to large settlements of migrants in the ouskirts of many major cities in developing countries around the world. Migrants often settle in undesireable, publicly owned lands and build shelters on an ad hoc basis with materials considered unsuitable for housing. National and local governments have generally provide little to no support for these populations.\n"
   ]
  },
  {
   "cell_type": "code",
   "execution_count": 47,
   "metadata": {},
   "outputs": [],
   "source": [
    "import csv\n",
    "import pandas as pd\n",
    "import numpy as np\n",
    "\n",
    "import matplotlib.pyplot as plt\n",
    "import seaborn as sns\n",
    "%matplotlib inline"
   ]
  },
  {
   "cell_type": "code",
   "execution_count": 48,
   "metadata": {},
   "outputs": [
    {
     "data": {
      "text/plain": [
       "dict_keys(['Country Name', 'Country Code', 'Indicator Name', 'Indicator Code', '1960', '1961', '1962', '1963', '1964', '1965', '1966', '1967', '1968', '1969', '1970', '1971', '1972', '1973', '1974', '1975', '1976', '1977', '1978', '1979', '1980', '1981', '1982', '1983', '1984', '1985', '1986', '1987', '1988', '1989', '1990', '1991', '1992', '1993', '1994', '1995', '1996', '1997', '1998', '1999', '2000', '2001', '2002', '2003', '2004', '2005', '2006', '2007', '2008', '2009', '2010', '2011', '2012', '2013', '2014', '2015', '2016', '2017', 'Unnamed: 62'])"
      ]
     },
     "execution_count": 48,
     "metadata": {},
     "output_type": "execute_result"
    }
   ],
   "source": [
    "# Reading World Bank Data: Global Slum Population Percentages\n",
    "\n",
    "slum_df = pd.read_csv('API_EN.POP.SLUM.UR.ZS_DS2_en_csv_v2_10034237.csv')\n",
    "slum_percentage_dict = slum_df.to_dict()\n",
    "\n",
    "slum_percentage_dict.keys()"
   ]
  },
  {
   "cell_type": "code",
   "execution_count": 49,
   "metadata": {},
   "outputs": [
    {
     "data": {
      "text/plain": [
       "{0: 'Aruba',\n",
       " 1: 'Afghanistan',\n",
       " 2: 'Angola',\n",
       " 3: 'Albania',\n",
       " 4: 'Andorra',\n",
       " 5: 'Arab World',\n",
       " 6: 'United Arab Emirates',\n",
       " 7: 'Argentina',\n",
       " 8: 'Armenia',\n",
       " 9: 'American Samoa',\n",
       " 10: 'Antigua and Barbuda',\n",
       " 11: 'Australia',\n",
       " 12: 'Austria',\n",
       " 13: 'Azerbaijan',\n",
       " 14: 'Burundi',\n",
       " 15: 'Belgium',\n",
       " 16: 'Benin',\n",
       " 17: 'Burkina Faso',\n",
       " 18: 'Bangladesh',\n",
       " 19: 'Bulgaria',\n",
       " 20: 'Bahrain',\n",
       " 21: 'Bahamas, The',\n",
       " 22: 'Bosnia and Herzegovina',\n",
       " 23: 'Belarus',\n",
       " 24: 'Belize',\n",
       " 25: 'Bermuda',\n",
       " 26: 'Bolivia',\n",
       " 27: 'Brazil',\n",
       " 28: 'Barbados',\n",
       " 29: 'Brunei Darussalam',\n",
       " 30: 'Bhutan',\n",
       " 31: 'Botswana',\n",
       " 32: 'Central African Republic',\n",
       " 33: 'Canada',\n",
       " 34: 'Central Europe and the Baltics',\n",
       " 35: 'Switzerland',\n",
       " 36: 'Channel Islands',\n",
       " 37: 'Chile',\n",
       " 38: 'China',\n",
       " 39: \"Cote d'Ivoire\",\n",
       " 40: 'Cameroon',\n",
       " 41: 'Congo, Dem. Rep.',\n",
       " 42: 'Congo, Rep.',\n",
       " 43: 'Colombia',\n",
       " 44: 'Comoros',\n",
       " 45: 'Cabo Verde',\n",
       " 46: 'Costa Rica',\n",
       " 47: 'Caribbean small states',\n",
       " 48: 'Cuba',\n",
       " 49: 'Curacao',\n",
       " 50: 'Cayman Islands',\n",
       " 51: 'Cyprus',\n",
       " 52: 'Czech Republic',\n",
       " 53: 'Germany',\n",
       " 54: 'Djibouti',\n",
       " 55: 'Dominica',\n",
       " 56: 'Denmark',\n",
       " 57: 'Dominican Republic',\n",
       " 58: 'Algeria',\n",
       " 59: 'East Asia & Pacific (excluding high income)',\n",
       " 60: 'Early-demographic dividend',\n",
       " 61: 'East Asia & Pacific',\n",
       " 62: 'Europe & Central Asia (excluding high income)',\n",
       " 63: 'Europe & Central Asia',\n",
       " 64: 'Ecuador',\n",
       " 65: 'Egypt, Arab Rep.',\n",
       " 66: 'Euro area',\n",
       " 67: 'Eritrea',\n",
       " 68: 'Spain',\n",
       " 69: 'Estonia',\n",
       " 70: 'Ethiopia',\n",
       " 71: 'European Union',\n",
       " 72: 'Fragile and conflict affected situations',\n",
       " 73: 'Finland',\n",
       " 74: 'Fiji',\n",
       " 75: 'France',\n",
       " 76: 'Faroe Islands',\n",
       " 77: 'Micronesia, Fed. Sts.',\n",
       " 78: 'Gabon',\n",
       " 79: 'United Kingdom',\n",
       " 80: 'Georgia',\n",
       " 81: 'Ghana',\n",
       " 82: 'Gibraltar',\n",
       " 83: 'Guinea',\n",
       " 84: 'Gambia, The',\n",
       " 85: 'Guinea-Bissau',\n",
       " 86: 'Equatorial Guinea',\n",
       " 87: 'Greece',\n",
       " 88: 'Grenada',\n",
       " 89: 'Greenland',\n",
       " 90: 'Guatemala',\n",
       " 91: 'Guam',\n",
       " 92: 'Guyana',\n",
       " 93: 'High income',\n",
       " 94: 'Hong Kong SAR, China',\n",
       " 95: 'Honduras',\n",
       " 96: 'Heavily indebted poor countries (HIPC)',\n",
       " 97: 'Croatia',\n",
       " 98: 'Haiti',\n",
       " 99: 'Hungary',\n",
       " 100: 'IBRD only',\n",
       " 101: 'IDA & IBRD total',\n",
       " 102: 'IDA total',\n",
       " 103: 'IDA blend',\n",
       " 104: 'Indonesia',\n",
       " 105: 'IDA only',\n",
       " 106: 'Isle of Man',\n",
       " 107: 'India',\n",
       " 108: 'Not classified',\n",
       " 109: 'Ireland',\n",
       " 110: 'Iran, Islamic Rep.',\n",
       " 111: 'Iraq',\n",
       " 112: 'Iceland',\n",
       " 113: 'Israel',\n",
       " 114: 'Italy',\n",
       " 115: 'Jamaica',\n",
       " 116: 'Jordan',\n",
       " 117: 'Japan',\n",
       " 118: 'Kazakhstan',\n",
       " 119: 'Kenya',\n",
       " 120: 'Kyrgyz Republic',\n",
       " 121: 'Cambodia',\n",
       " 122: 'Kiribati',\n",
       " 123: 'St. Kitts and Nevis',\n",
       " 124: 'Korea, Rep.',\n",
       " 125: 'Kuwait',\n",
       " 126: 'Latin America & Caribbean (excluding high income)',\n",
       " 127: 'Lao PDR',\n",
       " 128: 'Lebanon',\n",
       " 129: 'Liberia',\n",
       " 130: 'Libya',\n",
       " 131: 'St. Lucia',\n",
       " 132: 'Latin America & Caribbean',\n",
       " 133: 'Least developed countries: UN classification',\n",
       " 134: 'Low income',\n",
       " 135: 'Liechtenstein',\n",
       " 136: 'Sri Lanka',\n",
       " 137: 'Lower middle income',\n",
       " 138: 'Low & middle income',\n",
       " 139: 'Lesotho',\n",
       " 140: 'Late-demographic dividend',\n",
       " 141: 'Lithuania',\n",
       " 142: 'Luxembourg',\n",
       " 143: 'Latvia',\n",
       " 144: 'Macao SAR, China',\n",
       " 145: 'St. Martin (French part)',\n",
       " 146: 'Morocco',\n",
       " 147: 'Monaco',\n",
       " 148: 'Moldova',\n",
       " 149: 'Madagascar',\n",
       " 150: 'Maldives',\n",
       " 151: 'Middle East & North Africa',\n",
       " 152: 'Mexico',\n",
       " 153: 'Marshall Islands',\n",
       " 154: 'Middle income',\n",
       " 155: 'Macedonia, FYR',\n",
       " 156: 'Mali',\n",
       " 157: 'Malta',\n",
       " 158: 'Myanmar',\n",
       " 159: 'Middle East & North Africa (excluding high income)',\n",
       " 160: 'Montenegro',\n",
       " 161: 'Mongolia',\n",
       " 162: 'Northern Mariana Islands',\n",
       " 163: 'Mozambique',\n",
       " 164: 'Mauritania',\n",
       " 165: 'Mauritius',\n",
       " 166: 'Malawi',\n",
       " 167: 'Malaysia',\n",
       " 168: 'North America',\n",
       " 169: 'Namibia',\n",
       " 170: 'New Caledonia',\n",
       " 171: 'Niger',\n",
       " 172: 'Nigeria',\n",
       " 173: 'Nicaragua',\n",
       " 174: 'Netherlands',\n",
       " 175: 'Norway',\n",
       " 176: 'Nepal',\n",
       " 177: 'Nauru',\n",
       " 178: 'New Zealand',\n",
       " 179: 'OECD members',\n",
       " 180: 'Oman',\n",
       " 181: 'Other small states',\n",
       " 182: 'Pakistan',\n",
       " 183: 'Panama',\n",
       " 184: 'Peru',\n",
       " 185: 'Philippines',\n",
       " 186: 'Palau',\n",
       " 187: 'Papua New Guinea',\n",
       " 188: 'Poland',\n",
       " 189: 'Pre-demographic dividend',\n",
       " 190: 'Puerto Rico',\n",
       " 191: 'Korea, Dem. People’s Rep.',\n",
       " 192: 'Portugal',\n",
       " 193: 'Paraguay',\n",
       " 194: 'West Bank and Gaza',\n",
       " 195: 'Pacific island small states',\n",
       " 196: 'Post-demographic dividend',\n",
       " 197: 'French Polynesia',\n",
       " 198: 'Qatar',\n",
       " 199: 'Romania',\n",
       " 200: 'Russian Federation',\n",
       " 201: 'Rwanda',\n",
       " 202: 'South Asia',\n",
       " 203: 'Saudi Arabia',\n",
       " 204: 'Sudan',\n",
       " 205: 'Senegal',\n",
       " 206: 'Singapore',\n",
       " 207: 'Solomon Islands',\n",
       " 208: 'Sierra Leone',\n",
       " 209: 'El Salvador',\n",
       " 210: 'San Marino',\n",
       " 211: 'Somalia',\n",
       " 212: 'Serbia',\n",
       " 213: 'Sub-Saharan Africa (excluding high income)',\n",
       " 214: 'South Sudan',\n",
       " 215: 'Sub-Saharan Africa',\n",
       " 216: 'Small states',\n",
       " 217: 'Sao Tome and Principe',\n",
       " 218: 'Suriname',\n",
       " 219: 'Slovak Republic',\n",
       " 220: 'Slovenia',\n",
       " 221: 'Sweden',\n",
       " 222: 'Swaziland',\n",
       " 223: 'Sint Maarten (Dutch part)',\n",
       " 224: 'Seychelles',\n",
       " 225: 'Syrian Arab Republic',\n",
       " 226: 'Turks and Caicos Islands',\n",
       " 227: 'Chad',\n",
       " 228: 'East Asia & Pacific (IDA & IBRD countries)',\n",
       " 229: 'Europe & Central Asia (IDA & IBRD countries)',\n",
       " 230: 'Togo',\n",
       " 231: 'Thailand',\n",
       " 232: 'Tajikistan',\n",
       " 233: 'Turkmenistan',\n",
       " 234: 'Latin America & the Caribbean (IDA & IBRD countries)',\n",
       " 235: 'Timor-Leste',\n",
       " 236: 'Middle East & North Africa (IDA & IBRD countries)',\n",
       " 237: 'Tonga',\n",
       " 238: 'South Asia (IDA & IBRD)',\n",
       " 239: 'Sub-Saharan Africa (IDA & IBRD countries)',\n",
       " 240: 'Trinidad and Tobago',\n",
       " 241: 'Tunisia',\n",
       " 242: 'Turkey',\n",
       " 243: 'Tuvalu',\n",
       " 244: 'Tanzania',\n",
       " 245: 'Uganda',\n",
       " 246: 'Ukraine',\n",
       " 247: 'Upper middle income',\n",
       " 248: 'Uruguay',\n",
       " 249: 'United States',\n",
       " 250: 'Uzbekistan',\n",
       " 251: 'St. Vincent and the Grenadines',\n",
       " 252: 'Venezuela, RB',\n",
       " 253: 'British Virgin Islands',\n",
       " 254: 'Virgin Islands (U.S.)',\n",
       " 255: 'Vietnam',\n",
       " 256: 'Vanuatu',\n",
       " 257: 'World',\n",
       " 258: 'Samoa',\n",
       " 259: 'Kosovo',\n",
       " 260: 'Yemen, Rep.',\n",
       " 261: 'South Africa',\n",
       " 262: 'Zambia',\n",
       " 263: 'Zimbabwe'}"
      ]
     },
     "execution_count": 49,
     "metadata": {},
     "output_type": "execute_result"
    }
   ],
   "source": [
    "slum_percentage_dict['Country Name']"
   ]
  },
  {
   "cell_type": "code",
   "execution_count": 50,
   "metadata": {},
   "outputs": [
    {
     "name": "stdout",
     "output_type": "stream",
     "text": [
      "54.9\n"
     ]
    },
    {
     "data": {
      "text/plain": [
       "dict"
      ]
     },
     "execution_count": 50,
     "metadata": {},
     "output_type": "execute_result"
    }
   ],
   "source": [
    "# Rows needed: \n",
    "# 107: 'India',\n",
    "# 119: 'Kenya',\n",
    "# 152: 'Mexico',\n",
    "# 182: 'Pakistan',\n",
    "# 261: 'South Africa',\n",
    "\n",
    "INDIA = 107\n",
    "KENYA = 119\n",
    "MEXICO = 152\n",
    "PAKISTAN = 182\n",
    "SOUTH_AFRICA = 261\n",
    "\n",
    "# Columns needed:\n",
    "# Values for 'country name' and years '1990', '1995', '2000', '2005', '2007', '2009', '2014'.\n",
    "# Assign values for each column to a variable\n",
    "_1990 = slum_percentage_dict['1990']\n",
    "_1995 = slum_percentage_dict['1995']\n",
    "_2000 = slum_percentage_dict['2000']\n",
    "_2005 = slum_percentage_dict['2005']\n",
    "_2007 = slum_percentage_dict['2007']\n",
    "_2009 = slum_percentage_dict['2009']\n",
    "_2014 = slum_percentage_dict['2014']\n",
    "\n",
    "# Testing to check value for India in 1990 (column '1990', row 107) \n",
    "print(_1990[INDIA]) \n",
    "\n",
    "type(_2014)"
   ]
  },
  {
   "cell_type": "code",
   "execution_count": 51,
   "metadata": {},
   "outputs": [
    {
     "name": "stdout",
     "output_type": "stream",
     "text": [
      "[23.1, 21.5, 19.9, 14.4, 14.4, 14.4, 11.1]\n"
     ]
    }
   ],
   "source": [
    "# Combine list variables into one list\n",
    "# list of dictionaries\n",
    "slum_yearly_values = [_1990, _1995, _2000, _2005, _2007, _2009, _2014]\n",
    "\n",
    "# Create a function to extract values pertaining to each country from each year\n",
    "def output_country_slumpercents(country):\n",
    "    country_values_list = []\n",
    "    \n",
    "    for year in slum_yearly_values:\n",
    "        country_values_list.append(year[country])\n",
    "\n",
    "    return country_values_list\n",
    "\n",
    "# Run country index through function \n",
    "# Assign array of output values to new variables to plot on the x-axis \n",
    "india_slumpercents = output_country_slumpercents(INDIA)\n",
    "kenya_slumpercents = output_country_slumpercents(KENYA)\n",
    "mexico_slumpercents = output_country_slumpercents(MEXICO)\n",
    "pakistan_slumpercents = output_country_slumpercents(PAKISTAN)\n",
    "southafrica_slumpercents = output_country_slumpercents(SOUTH_AFRICA)\n",
    "\n",
    "# Create list of years to plot on y-axis\n",
    "years = [1990, 1995, 2000, 2005, 2007, 2009, 2014]\n",
    "\n",
    "# Test print\n",
    "print(mexico_slumpercents) "
   ]
  },
  {
   "cell_type": "code",
   "execution_count": 52,
   "metadata": {},
   "outputs": [
    {
     "data": {
      "text/html": [
       "<script>requirejs.config({paths: { 'plotly': ['https://cdn.plot.ly/plotly-latest.min']},});if(!window.Plotly) {{require(['plotly'],function(plotly) {window.Plotly=plotly;});}}</script>"
      ],
      "text/vnd.plotly.v1+html": [
       "<script>requirejs.config({paths: { 'plotly': ['https://cdn.plot.ly/plotly-latest.min']},});if(!window.Plotly) {{require(['plotly'],function(plotly) {window.Plotly=plotly;});}}</script>"
      ]
     },
     "metadata": {},
     "output_type": "display_data"
    },
    {
     "data": {
      "application/vnd.plotly.v1+json": {
       "data": [
        {
         "name": "Kenya",
         "type": "scatter",
         "uid": "fe792aa4-bb7c-11e8-84f4-80e6500ae360",
         "x": [
          1990,
          1995,
          2000,
          2005,
          2007,
          2009,
          2014
         ],
         "y": [
          54.9,
          54.8,
          54.8,
          54.8,
          54.8,
          54.7,
          56
         ]
        },
        {
         "name": "Pakistan",
         "type": "scatter",
         "uid": "fe7aea68-bb7c-11e8-9854-80e6500ae360",
         "x": [
          1990,
          1995,
          2000,
          2005,
          2007,
          2009,
          2014
         ],
         "y": [
          51,
          49.8,
          48.7,
          47.5,
          47,
          46.6,
          45.5
         ]
        },
        {
         "name": "India",
         "type": "scatter",
         "uid": "fe7aebc8-bb7c-11e8-baf4-80e6500ae360",
         "x": [
          1990,
          1995,
          2000,
          2005,
          2007,
          2009,
          2014
         ],
         "y": [
          54.9,
          48.2,
          41.5,
          34.8,
          32.1,
          29.4,
          24
         ]
        },
        {
         "name": "South Africa",
         "type": "scatter",
         "uid": "fe7aec90-bb7c-11e8-ac57-80e6500ae360",
         "x": [
          1990,
          1995,
          2000,
          2005,
          2007,
          2009,
          2014
         ],
         "y": [
          46.2,
          39.7,
          33.2,
          28.7,
          23,
          23,
          23
         ]
        },
        {
         "name": "Mexico",
         "type": "scatter",
         "uid": "fe7aed46-bb7c-11e8-bb38-80e6500ae360",
         "x": [
          1990,
          1995,
          2000,
          2005,
          2007,
          2009,
          2014
         ],
         "y": [
          23.1,
          21.5,
          19.9,
          14.4,
          14.4,
          14.4,
          11.1
         ]
        }
       ],
       "layout": {
        "barmode": "stack",
        "title": "Percentage of Total Population Living in Slums (1990-2014)",
        "xaxis": {
         "title": "Years",
         "titlefont": {
          "family": "Helvetica, monospace",
          "size": 12
         }
        },
        "yaxis": {
         "title": "Population (%)",
         "titlefont": {
          "family": "Helvetica, monospace",
          "size": 12
         }
        }
       }
      },
      "text/html": [
       "<div id=\"0e5107cc-5f10-44f2-9cc2-9623fdb275c1\" style=\"height: 525px; width: 100%;\" class=\"plotly-graph-div\"></div><script type=\"text/javascript\">require([\"plotly\"], function(Plotly) { window.PLOTLYENV=window.PLOTLYENV || {};window.PLOTLYENV.BASE_URL=\"https://plot.ly\";\n",
       "        Plotly.plot(\n",
       "            '0e5107cc-5f10-44f2-9cc2-9623fdb275c1',\n",
       "            [{\"name\": \"Kenya\", \"x\": [1990, 1995, 2000, 2005, 2007, 2009, 2014], \"y\": [54.9, 54.8, 54.8, 54.8, 54.8, 54.7, 56.0], \"type\": \"scatter\", \"uid\": \"fe792aa4-bb7c-11e8-84f4-80e6500ae360\"}, {\"name\": \"Pakistan\", \"x\": [1990, 1995, 2000, 2005, 2007, 2009, 2014], \"y\": [51.0, 49.8, 48.7, 47.5, 47.0, 46.6, 45.5], \"type\": \"scatter\", \"uid\": \"fe7aea68-bb7c-11e8-9854-80e6500ae360\"}, {\"name\": \"India\", \"x\": [1990, 1995, 2000, 2005, 2007, 2009, 2014], \"y\": [54.9, 48.2, 41.5, 34.8, 32.1, 29.4, 24.0], \"type\": \"scatter\", \"uid\": \"fe7aebc8-bb7c-11e8-baf4-80e6500ae360\"}, {\"name\": \"South Africa\", \"x\": [1990, 1995, 2000, 2005, 2007, 2009, 2014], \"y\": [46.2, 39.7, 33.2, 28.7, 23.0, 23.0, 23.0], \"type\": \"scatter\", \"uid\": \"fe7aec90-bb7c-11e8-ac57-80e6500ae360\"}, {\"name\": \"Mexico\", \"x\": [1990, 1995, 2000, 2005, 2007, 2009, 2014], \"y\": [23.1, 21.5, 19.9, 14.4, 14.4, 14.4, 11.1], \"type\": \"scatter\", \"uid\": \"fe7aed46-bb7c-11e8-bb38-80e6500ae360\"}],\n",
       "            {\"barmode\": \"stack\", \"title\": \"Percentage of Total Population Living in Slums (1990-2014)\", \"xaxis\": {\"title\": \"Years\", \"titlefont\": {\"family\": \"Helvetica, monospace\", \"size\": 12}}, \"yaxis\": {\"title\": \"Population (%)\", \"titlefont\": {\"family\": \"Helvetica, monospace\", \"size\": 12}}},\n",
       "            {\"showLink\": true, \"linkText\": \"Export to plot.ly\"}\n",
       "        ).then(function () {return Plotly.addFrames('0e5107cc-5f10-44f2-9cc2-9623fdb275c1',{});}).then(function(){Plotly.animate('0e5107cc-5f10-44f2-9cc2-9623fdb275c1');})\n",
       "        });</script>"
      ],
      "text/vnd.plotly.v1+html": [
       "<div id=\"0e5107cc-5f10-44f2-9cc2-9623fdb275c1\" style=\"height: 525px; width: 100%;\" class=\"plotly-graph-div\"></div><script type=\"text/javascript\">require([\"plotly\"], function(Plotly) { window.PLOTLYENV=window.PLOTLYENV || {};window.PLOTLYENV.BASE_URL=\"https://plot.ly\";\n",
       "        Plotly.plot(\n",
       "            '0e5107cc-5f10-44f2-9cc2-9623fdb275c1',\n",
       "            [{\"name\": \"Kenya\", \"x\": [1990, 1995, 2000, 2005, 2007, 2009, 2014], \"y\": [54.9, 54.8, 54.8, 54.8, 54.8, 54.7, 56.0], \"type\": \"scatter\", \"uid\": \"fe792aa4-bb7c-11e8-84f4-80e6500ae360\"}, {\"name\": \"Pakistan\", \"x\": [1990, 1995, 2000, 2005, 2007, 2009, 2014], \"y\": [51.0, 49.8, 48.7, 47.5, 47.0, 46.6, 45.5], \"type\": \"scatter\", \"uid\": \"fe7aea68-bb7c-11e8-9854-80e6500ae360\"}, {\"name\": \"India\", \"x\": [1990, 1995, 2000, 2005, 2007, 2009, 2014], \"y\": [54.9, 48.2, 41.5, 34.8, 32.1, 29.4, 24.0], \"type\": \"scatter\", \"uid\": \"fe7aebc8-bb7c-11e8-baf4-80e6500ae360\"}, {\"name\": \"South Africa\", \"x\": [1990, 1995, 2000, 2005, 2007, 2009, 2014], \"y\": [46.2, 39.7, 33.2, 28.7, 23.0, 23.0, 23.0], \"type\": \"scatter\", \"uid\": \"fe7aec90-bb7c-11e8-ac57-80e6500ae360\"}, {\"name\": \"Mexico\", \"x\": [1990, 1995, 2000, 2005, 2007, 2009, 2014], \"y\": [23.1, 21.5, 19.9, 14.4, 14.4, 14.4, 11.1], \"type\": \"scatter\", \"uid\": \"fe7aed46-bb7c-11e8-bb38-80e6500ae360\"}],\n",
       "            {\"barmode\": \"stack\", \"title\": \"Percentage of Total Population Living in Slums (1990-2014)\", \"xaxis\": {\"title\": \"Years\", \"titlefont\": {\"family\": \"Helvetica, monospace\", \"size\": 12}}, \"yaxis\": {\"title\": \"Population (%)\", \"titlefont\": {\"family\": \"Helvetica, monospace\", \"size\": 12}}},\n",
       "            {\"showLink\": true, \"linkText\": \"Export to plot.ly\"}\n",
       "        ).then(function () {return Plotly.addFrames('0e5107cc-5f10-44f2-9cc2-9623fdb275c1',{});}).then(function(){Plotly.animate('0e5107cc-5f10-44f2-9cc2-9623fdb275c1');})\n",
       "        });</script>"
      ]
     },
     "metadata": {},
     "output_type": "display_data"
    }
   ],
   "source": [
    "import plotly\n",
    "import plotly.plotly as py\n",
    "import plotly.graph_objs as go\n",
    "plotly.offline.init_notebook_mode(connected=True)\n",
    "\n",
    "# Trace structure = {'type': 'scatter', 'x': years, 'y': country_values, 'name': name}\n",
    "# Create a for loop to iterate through country tuples (name, country_values) to create a list of traces for every country\n",
    "slumpercent_traces = []\n",
    "for country in [(\"Kenya\", kenya_slumpercents), (\"Pakistan\", pakistan_slumpercents), (\"India\", india_slumpercents), (\"South Africa\", southafrica_slumpercents), (\"Mexico\", mexico_slumpercents)]:\n",
    "    slumpercent_traces.append({'type': 'scatter', 'x': years, 'y': country[1], 'name': country[0]})\n",
    "\n",
    "# slumpercent_traces = [india_trace, kenya_trace, mexico_trace, pakistan_trace, southafrica_trace]\n",
    "layout = go.Layout(\n",
    "    title=\"Percentage of Total Population Living in Slums (1990-2014)\",\n",
    "    barmode='stack',\n",
    "    xaxis=dict(\n",
    "        title='Years',\n",
    "        titlefont=dict(\n",
    "            family='Helvetica, monospace',\n",
    "            size=12,\n",
    "        )\n",
    "    ),\n",
    "    yaxis=dict(\n",
    "        title='Population (%)',\n",
    "        titlefont=dict(\n",
    "            family='Helvetica, monospace',\n",
    "            size=12,\n",
    "        )\n",
    "    )\n",
    ")\n",
    "\n",
    "fig = go.Figure(data=slumpercent_traces, layout=layout)\n",
    "plotly.offline.iplot(fig)\n"
   ]
  },
  {
   "cell_type": "code",
   "execution_count": 53,
   "metadata": {},
   "outputs": [
    {
     "data": {
      "text/plain": [
       "dict_keys(['Country Name', 'Country Code', 'Indicator Name', 'Indicator Code', '1960', '1961', '1962', '1963', '1964', '1965', '1966', '1967', '1968', '1969', '1970', '1971', '1972', '1973', '1974', '1975', '1976', '1977', '1978', '1979', '1980', '1981', '1982', '1983', '1984', '1985', '1986', '1987', '1988', '1989', '1990', '1991', '1992', '1993', '1994', '1995', '1996', '1997', '1998', '1999', '2000', '2001', '2002', '2003', '2004', '2005', '2006', '2007', '2008', '2009', '2010', '2011', '2012', '2013', '2014', '2015', '2016', '2017', 'Unnamed: 62'])"
      ]
     },
     "execution_count": 53,
     "metadata": {},
     "output_type": "execute_result"
    }
   ],
   "source": [
    "# Reading World Bank Data: Global Total Populations\n",
    "\n",
    "totalpop_df = pd.read_csv('API_SP.POP.TOTL_DS2_en_csv_v2_10079323.csv')\n",
    "country_population_dict = totalpop_df.to_dict()\n",
    "\n",
    "country_population_dict.keys()"
   ]
  },
  {
   "cell_type": "code",
   "execution_count": 54,
   "metadata": {},
   "outputs": [],
   "source": [
    "# Rows needed:\n",
    "# INDIA = 107\n",
    "# KENYA = 119\n",
    "# MEXICO = 152\n",
    "# PAKISTAN = 182\n",
    "# SOUTH_AFRICA = 261\n",
    "\n",
    "# Columns needed:\n",
    "country_populations_1990 = country_population_dict['1990']\n",
    "country_populations_1995 = country_population_dict['1995']\n",
    "country_populations_2000 = country_population_dict['2000']\n",
    "country_populations_2005 = country_population_dict['2005']\n",
    "country_populations_2007 = country_population_dict['2007']\n",
    "country_populations_2009 = country_population_dict['2009']\n",
    "country_populations_2014 = country_population_dict['2014']\n",
    "\n",
    "country_populations_yearly_values = [country_populations_1990, country_populations_1995, country_populations_2000, country_populations_2005, country_populations_2007, country_populations_2009, country_populations_2014]\n"
   ]
  },
  {
   "cell_type": "code",
   "execution_count": 55,
   "metadata": {},
   "outputs": [
    {
     "name": "stdout",
     "output_type": "stream",
     "text": [
      "[870133480.0, 960482795.0, 1053050912.0, 1144118674.0, 1179681239.0, 1214270132.0, 1293859294.0]\n"
     ]
    }
   ],
   "source": [
    "def output_country_totalpops(country):\n",
    "    country_values_list = []\n",
    "    \n",
    "    for year in country_populations_yearly_values:\n",
    "        country_values_list.append(year[country])\n",
    "    \n",
    "    return country_values_list\n",
    "\n",
    "india_totalpops = output_country_totalpops(INDIA)\n",
    "kenya_totalpops = output_country_totalpops(KENYA)\n",
    "mexico_totalpops = output_country_totalpops(MEXICO)\n",
    "pakistan_totalpops = output_country_totalpops(PAKISTAN)\n",
    "southafrica_totalpops = output_country_totalpops(SOUTH_AFRICA)\n",
    "\n",
    "print(india_totalpops)\n"
   ]
  },
  {
   "cell_type": "code",
   "execution_count": 56,
   "metadata": {},
   "outputs": [
    {
     "data": {
      "application/vnd.plotly.v1+json": {
       "data": [
        {
         "name": "India",
         "type": "scatter",
         "uid": "00eaaaa6-bb7d-11e8-80e7-80e6500ae360",
         "x": [
          1990,
          1995,
          2000,
          2005,
          2007,
          2009,
          2014
         ],
         "y": [
          870133480,
          960482795,
          1053050912,
          1144118674,
          1179681239,
          1214270132,
          1293859294
         ]
        },
        {
         "name": "Pakistan",
         "type": "scatter",
         "uid": "00eaac74-bb7d-11e8-85a2-80e6500ae360",
         "x": [
          1990,
          1995,
          2000,
          2005,
          2007,
          2009,
          2014
         ],
         "y": [
          107678614,
          122829148,
          138523285,
          153909667,
          160332974,
          167049580,
          185546257
         ]
        },
        {
         "name": "Mexico",
         "type": "scatter",
         "uid": "00eaad62-bb7d-11e8-9c9e-80e6500ae360",
         "x": [
          1990,
          1995,
          2000,
          2005,
          2007,
          2009,
          2014
         ],
         "y": [
          85357874,
          94045579,
          101719673,
          108472228,
          111836346,
          115505228,
          124221600
         ]
        },
        {
         "name": "South Africa",
         "type": "scatter",
         "uid": "00eaae28-bb7d-11e8-b185-80e6500ae360",
         "x": [
          1990,
          1995,
          2000,
          2005,
          2007,
          2009,
          2014
         ],
         "y": [
          37560525,
          42088165,
          45728315,
          48820586,
          49887181,
          50970818,
          54539571
         ]
        },
        {
         "name": "Kenya",
         "type": "scatter",
         "uid": "00eaaee8-bb7d-11e8-9d20-80e6500ae360",
         "x": [
          1990,
          1995,
          2000,
          2005,
          2007,
          2009,
          2014
         ],
         "y": [
          23402507,
          27346456,
          31450483,
          36048288,
          38085909,
          40237204,
          46024250
         ]
        }
       ],
       "layout": {
        "barmode": "stack",
        "title": "Total Population Growth (1990-2014)",
        "xaxis": {
         "title": "Years",
         "titlefont": {
          "family": "Helvetica, monospace",
          "size": 12
         }
        },
        "yaxis": {
         "title": "Population (in millions)",
         "titlefont": {
          "family": "Helvetica, monospace",
          "size": 12
         }
        }
       }
      },
      "text/html": [
       "<div id=\"de0277a7-4a08-4742-a948-5c873dd8c511\" style=\"height: 525px; width: 100%;\" class=\"plotly-graph-div\"></div><script type=\"text/javascript\">require([\"plotly\"], function(Plotly) { window.PLOTLYENV=window.PLOTLYENV || {};window.PLOTLYENV.BASE_URL=\"https://plot.ly\";\n",
       "        Plotly.plot(\n",
       "            'de0277a7-4a08-4742-a948-5c873dd8c511',\n",
       "            [{\"name\": \"India\", \"x\": [1990, 1995, 2000, 2005, 2007, 2009, 2014], \"y\": [870133480.0, 960482795.0, 1053050912.0, 1144118674.0, 1179681239.0, 1214270132.0, 1293859294.0], \"type\": \"scatter\", \"uid\": \"00eaaaa6-bb7d-11e8-80e7-80e6500ae360\"}, {\"name\": \"Pakistan\", \"x\": [1990, 1995, 2000, 2005, 2007, 2009, 2014], \"y\": [107678614.0, 122829148.0, 138523285.0, 153909667.0, 160332974.0, 167049580.0, 185546257.0], \"type\": \"scatter\", \"uid\": \"00eaac74-bb7d-11e8-85a2-80e6500ae360\"}, {\"name\": \"Mexico\", \"x\": [1990, 1995, 2000, 2005, 2007, 2009, 2014], \"y\": [85357874.0, 94045579.0, 101719673.0, 108472228.0, 111836346.0, 115505228.0, 124221600.0], \"type\": \"scatter\", \"uid\": \"00eaad62-bb7d-11e8-9c9e-80e6500ae360\"}, {\"name\": \"South Africa\", \"x\": [1990, 1995, 2000, 2005, 2007, 2009, 2014], \"y\": [37560525.0, 42088165.0, 45728315.0, 48820586.0, 49887181.0, 50970818.0, 54539571.0], \"type\": \"scatter\", \"uid\": \"00eaae28-bb7d-11e8-b185-80e6500ae360\"}, {\"name\": \"Kenya\", \"x\": [1990, 1995, 2000, 2005, 2007, 2009, 2014], \"y\": [23402507.0, 27346456.0, 31450483.0, 36048288.0, 38085909.0, 40237204.0, 46024250.0], \"type\": \"scatter\", \"uid\": \"00eaaee8-bb7d-11e8-9d20-80e6500ae360\"}],\n",
       "            {\"barmode\": \"stack\", \"title\": \"Total Population Growth (1990-2014)\", \"xaxis\": {\"title\": \"Years\", \"titlefont\": {\"family\": \"Helvetica, monospace\", \"size\": 12}}, \"yaxis\": {\"title\": \"Population (in millions)\", \"titlefont\": {\"family\": \"Helvetica, monospace\", \"size\": 12}}},\n",
       "            {\"showLink\": true, \"linkText\": \"Export to plot.ly\"}\n",
       "        ).then(function () {return Plotly.addFrames('de0277a7-4a08-4742-a948-5c873dd8c511',{});}).then(function(){Plotly.animate('de0277a7-4a08-4742-a948-5c873dd8c511');})\n",
       "        });</script>"
      ],
      "text/vnd.plotly.v1+html": [
       "<div id=\"de0277a7-4a08-4742-a948-5c873dd8c511\" style=\"height: 525px; width: 100%;\" class=\"plotly-graph-div\"></div><script type=\"text/javascript\">require([\"plotly\"], function(Plotly) { window.PLOTLYENV=window.PLOTLYENV || {};window.PLOTLYENV.BASE_URL=\"https://plot.ly\";\n",
       "        Plotly.plot(\n",
       "            'de0277a7-4a08-4742-a948-5c873dd8c511',\n",
       "            [{\"name\": \"India\", \"x\": [1990, 1995, 2000, 2005, 2007, 2009, 2014], \"y\": [870133480.0, 960482795.0, 1053050912.0, 1144118674.0, 1179681239.0, 1214270132.0, 1293859294.0], \"type\": \"scatter\", \"uid\": \"00eaaaa6-bb7d-11e8-80e7-80e6500ae360\"}, {\"name\": \"Pakistan\", \"x\": [1990, 1995, 2000, 2005, 2007, 2009, 2014], \"y\": [107678614.0, 122829148.0, 138523285.0, 153909667.0, 160332974.0, 167049580.0, 185546257.0], \"type\": \"scatter\", \"uid\": \"00eaac74-bb7d-11e8-85a2-80e6500ae360\"}, {\"name\": \"Mexico\", \"x\": [1990, 1995, 2000, 2005, 2007, 2009, 2014], \"y\": [85357874.0, 94045579.0, 101719673.0, 108472228.0, 111836346.0, 115505228.0, 124221600.0], \"type\": \"scatter\", \"uid\": \"00eaad62-bb7d-11e8-9c9e-80e6500ae360\"}, {\"name\": \"South Africa\", \"x\": [1990, 1995, 2000, 2005, 2007, 2009, 2014], \"y\": [37560525.0, 42088165.0, 45728315.0, 48820586.0, 49887181.0, 50970818.0, 54539571.0], \"type\": \"scatter\", \"uid\": \"00eaae28-bb7d-11e8-b185-80e6500ae360\"}, {\"name\": \"Kenya\", \"x\": [1990, 1995, 2000, 2005, 2007, 2009, 2014], \"y\": [23402507.0, 27346456.0, 31450483.0, 36048288.0, 38085909.0, 40237204.0, 46024250.0], \"type\": \"scatter\", \"uid\": \"00eaaee8-bb7d-11e8-9d20-80e6500ae360\"}],\n",
       "            {\"barmode\": \"stack\", \"title\": \"Total Population Growth (1990-2014)\", \"xaxis\": {\"title\": \"Years\", \"titlefont\": {\"family\": \"Helvetica, monospace\", \"size\": 12}}, \"yaxis\": {\"title\": \"Population (in millions)\", \"titlefont\": {\"family\": \"Helvetica, monospace\", \"size\": 12}}},\n",
       "            {\"showLink\": true, \"linkText\": \"Export to plot.ly\"}\n",
       "        ).then(function () {return Plotly.addFrames('de0277a7-4a08-4742-a948-5c873dd8c511',{});}).then(function(){Plotly.animate('de0277a7-4a08-4742-a948-5c873dd8c511');})\n",
       "        });</script>"
      ]
     },
     "metadata": {},
     "output_type": "display_data"
    }
   ],
   "source": [
    "# years = [1990, 1995, 2000, 2005, 2007, 2009, 2014]\n",
    "\n",
    "totalpop_traces = []\n",
    "for country in [(\"India\", india_totalpops), (\"Pakistan\", pakistan_totalpops), (\"Mexico\", mexico_totalpops), (\"South Africa\", southafrica_totalpops), (\"Kenya\", kenya_totalpops)]:\n",
    "    totalpop_traces.append({'type': 'scatter', 'x': years, 'y': country[1], 'name': country[0]})\n",
    "\n",
    "layout = go.Layout(\n",
    "    title=\"Total Population Growth (1990-2014)\",\n",
    "    barmode='stack',\n",
    "    xaxis=dict(\n",
    "        title='Years',\n",
    "        titlefont=dict(\n",
    "            family='Helvetica, monospace',\n",
    "            size=12,\n",
    "        )\n",
    "    ),\n",
    "    yaxis=dict(\n",
    "        title='Population (in millions)',\n",
    "        titlefont=dict(\n",
    "            family='Helvetica, monospace',\n",
    "            size=12,\n",
    "        )\n",
    "    )\n",
    ")\n",
    "\n",
    "fig = go.Figure(data=totalpop_traces, layout=layout)\n",
    "plotly.offline.iplot(fig)\n"
   ]
  },
  {
   "cell_type": "code",
   "execution_count": 57,
   "metadata": {},
   "outputs": [
    {
     "name": "stdout",
     "output_type": "stream",
     "text": [
      "[477703280, 462952707, 437016128, 398153298, 378677677, 356995418, 310526230]\n"
     ]
    }
   ],
   "source": [
    "# Create a function to that takes in 'slumpercents' and 'totalpops' \n",
    "# to calculate slum population values (percentages*total populations/100)\n",
    "def output_country_slumpops(list_1, list_2):\n",
    "    country_slumpops = []\n",
    "    for i in range(0,len(list_1)):\n",
    "        country_slumpops.append(int((list_1[i]*list_2[i])/100))\n",
    "    return country_slumpops\n",
    "    \n",
    "india_slumpops = output_country_slumpops(india_slumpercents, india_totalpops)\n",
    "kenya_slumpops = output_country_slumpops(kenya_slumpercents, kenya_totalpops)\n",
    "mexico_slumpops = output_country_slumpops(mexico_slumpercents, mexico_totalpops)\n",
    "pakistan_slumpops = output_country_slumpops(pakistan_slumpercents, pakistan_totalpops)\n",
    "southafrica_slumpops = output_country_slumpops(southafrica_slumpercents, southafrica_totalpops)    \n",
    "\n",
    "# Test\n",
    "print(india_slumpops)\n"
   ]
  },
  {
   "cell_type": "code",
   "execution_count": 58,
   "metadata": {},
   "outputs": [
    {
     "data": {
      "application/vnd.plotly.v1+json": {
       "data": [
        {
         "name": "India",
         "type": "scatter",
         "uid": "016a4c86-bb7d-11e8-863f-80e6500ae360",
         "x": [
          1990,
          1995,
          2000,
          2005,
          2007,
          2009,
          2014
         ],
         "y": [
          477703280,
          462952707,
          437016128,
          398153298,
          378677677,
          356995418,
          310526230
         ]
        },
        {
         "name": "Pakistan",
         "type": "scatter",
         "uid": "016a4f54-bb7d-11e8-af33-80e6500ae360",
         "x": [
          1990,
          1995,
          2000,
          2005,
          2007,
          2009,
          2014
         ],
         "y": [
          54916093,
          61168915,
          67460839,
          73107091,
          75356497,
          77845104,
          84423546
         ]
        },
        {
         "name": "Kenya",
         "type": "scatter",
         "uid": "016a50ee-bb7d-11e8-aac6-80e6500ae360",
         "x": [
          1990,
          1995,
          2000,
          2005,
          2007,
          2009,
          2014
         ],
         "y": [
          12847976,
          14985857,
          17234864,
          19754461,
          20871078,
          22009750,
          25773580
         ]
        },
        {
         "name": "South Africa",
         "type": "scatter",
         "uid": "016a524c-bb7d-11e8-a4ec-80e6500ae360",
         "x": [
          1990,
          1995,
          2000,
          2005,
          2007,
          2009,
          2014
         ],
         "y": [
          17352962,
          16709001,
          15181800,
          14011508,
          11474051,
          11723288,
          12544101
         ]
        }
       ],
       "layout": {
        "barmode": "stack",
        "title": "Slum Population Growth (1990-2014)",
        "xaxis": {
         "title": "Years",
         "titlefont": {
          "family": "Helvetica, monospace",
          "size": 14
         }
        },
        "yaxis": {
         "title": "Population (in millions)",
         "titlefont": {
          "family": "Helvetica, monospace",
          "size": 14
         }
        }
       }
      },
      "text/html": [
       "<div id=\"fe732be3-6a20-45b9-85a2-a759562d5ead\" style=\"height: 525px; width: 100%;\" class=\"plotly-graph-div\"></div><script type=\"text/javascript\">require([\"plotly\"], function(Plotly) { window.PLOTLYENV=window.PLOTLYENV || {};window.PLOTLYENV.BASE_URL=\"https://plot.ly\";\n",
       "        Plotly.plot(\n",
       "            'fe732be3-6a20-45b9-85a2-a759562d5ead',\n",
       "            [{\"name\": \"India\", \"x\": [1990, 1995, 2000, 2005, 2007, 2009, 2014], \"y\": [477703280, 462952707, 437016128, 398153298, 378677677, 356995418, 310526230], \"type\": \"scatter\", \"uid\": \"016a4c86-bb7d-11e8-863f-80e6500ae360\"}, {\"name\": \"Pakistan\", \"x\": [1990, 1995, 2000, 2005, 2007, 2009, 2014], \"y\": [54916093, 61168915, 67460839, 73107091, 75356497, 77845104, 84423546], \"type\": \"scatter\", \"uid\": \"016a4f54-bb7d-11e8-af33-80e6500ae360\"}, {\"name\": \"Kenya\", \"x\": [1990, 1995, 2000, 2005, 2007, 2009, 2014], \"y\": [12847976, 14985857, 17234864, 19754461, 20871078, 22009750, 25773580], \"type\": \"scatter\", \"uid\": \"016a50ee-bb7d-11e8-aac6-80e6500ae360\"}, {\"name\": \"South Africa\", \"x\": [1990, 1995, 2000, 2005, 2007, 2009, 2014], \"y\": [17352962, 16709001, 15181800, 14011508, 11474051, 11723288, 12544101], \"type\": \"scatter\", \"uid\": \"016a524c-bb7d-11e8-a4ec-80e6500ae360\"}],\n",
       "            {\"barmode\": \"stack\", \"title\": \"Slum Population Growth (1990-2014)\", \"xaxis\": {\"title\": \"Years\", \"titlefont\": {\"family\": \"Helvetica, monospace\", \"size\": 14}}, \"yaxis\": {\"title\": \"Population (in millions)\", \"titlefont\": {\"family\": \"Helvetica, monospace\", \"size\": 14}}},\n",
       "            {\"showLink\": true, \"linkText\": \"Export to plot.ly\"}\n",
       "        ).then(function () {return Plotly.addFrames('fe732be3-6a20-45b9-85a2-a759562d5ead',{});}).then(function(){Plotly.animate('fe732be3-6a20-45b9-85a2-a759562d5ead');})\n",
       "        });</script>"
      ],
      "text/vnd.plotly.v1+html": [
       "<div id=\"fe732be3-6a20-45b9-85a2-a759562d5ead\" style=\"height: 525px; width: 100%;\" class=\"plotly-graph-div\"></div><script type=\"text/javascript\">require([\"plotly\"], function(Plotly) { window.PLOTLYENV=window.PLOTLYENV || {};window.PLOTLYENV.BASE_URL=\"https://plot.ly\";\n",
       "        Plotly.plot(\n",
       "            'fe732be3-6a20-45b9-85a2-a759562d5ead',\n",
       "            [{\"name\": \"India\", \"x\": [1990, 1995, 2000, 2005, 2007, 2009, 2014], \"y\": [477703280, 462952707, 437016128, 398153298, 378677677, 356995418, 310526230], \"type\": \"scatter\", \"uid\": \"016a4c86-bb7d-11e8-863f-80e6500ae360\"}, {\"name\": \"Pakistan\", \"x\": [1990, 1995, 2000, 2005, 2007, 2009, 2014], \"y\": [54916093, 61168915, 67460839, 73107091, 75356497, 77845104, 84423546], \"type\": \"scatter\", \"uid\": \"016a4f54-bb7d-11e8-af33-80e6500ae360\"}, {\"name\": \"Kenya\", \"x\": [1990, 1995, 2000, 2005, 2007, 2009, 2014], \"y\": [12847976, 14985857, 17234864, 19754461, 20871078, 22009750, 25773580], \"type\": \"scatter\", \"uid\": \"016a50ee-bb7d-11e8-aac6-80e6500ae360\"}, {\"name\": \"South Africa\", \"x\": [1990, 1995, 2000, 2005, 2007, 2009, 2014], \"y\": [17352962, 16709001, 15181800, 14011508, 11474051, 11723288, 12544101], \"type\": \"scatter\", \"uid\": \"016a524c-bb7d-11e8-a4ec-80e6500ae360\"}],\n",
       "            {\"barmode\": \"stack\", \"title\": \"Slum Population Growth (1990-2014)\", \"xaxis\": {\"title\": \"Years\", \"titlefont\": {\"family\": \"Helvetica, monospace\", \"size\": 14}}, \"yaxis\": {\"title\": \"Population (in millions)\", \"titlefont\": {\"family\": \"Helvetica, monospace\", \"size\": 14}}},\n",
       "            {\"showLink\": true, \"linkText\": \"Export to plot.ly\"}\n",
       "        ).then(function () {return Plotly.addFrames('fe732be3-6a20-45b9-85a2-a759562d5ead',{});}).then(function(){Plotly.animate('fe732be3-6a20-45b9-85a2-a759562d5ead');})\n",
       "        });</script>"
      ]
     },
     "metadata": {},
     "output_type": "display_data"
    }
   ],
   "source": [
    "slumpop_traces = []\n",
    "for country in [(\"India\", india_slumpops), (\"Pakistan\", pakistan_slumpops), (\"Kenya\", kenya_slumpops), (\"South Africa\", southafrica_slumpops, (\"Mexico\", mexico_slumpops))]:\n",
    "    slumpop_traces.append({'type': 'scatter', 'x': years, 'y': country[1], 'name': country[0]})\n",
    "\n",
    "layout = go.Layout(\n",
    "    title=\"Slum Population Growth (1990-2014)\",\n",
    "    barmode='stack',\n",
    "    xaxis=dict(\n",
    "        title='Years',\n",
    "        titlefont=dict(\n",
    "            family='Helvetica, monospace',\n",
    "            size=14,\n",
    "        )\n",
    "    ),\n",
    "    yaxis=dict(\n",
    "        title='Population (in millions)',\n",
    "        titlefont=dict(\n",
    "            family='Helvetica, monospace',\n",
    "            size=14,\n",
    "        )\n",
    "    )\n",
    ")\n",
    "\n",
    "fig = go.Figure(data=slumpop_traces, layout=layout)\n",
    "plotly.offline.iplot(fig)\n",
    "\n"
   ]
  },
  {
   "cell_type": "code",
   "execution_count": 59,
   "metadata": {},
   "outputs": [
    {
     "data": {
      "text/plain": [
       "dict_keys(['Country Name', 'Country Code', 'Indicator Name', 'Indicator Code', '1960', '1961', '1962', '1963', '1964', '1965', '1966', '1967', '1968', '1969', '1970', '1971', '1972', '1973', '1974', '1975', '1976', '1977', '1978', '1979', '1980', '1981', '1982', '1983', '1984', '1985', '1986', '1987', '1988', '1989', '1990', '1991', '1992', '1993', '1994', '1995', '1996', '1997', '1998', '1999', '2000', '2001', '2002', '2003', '2004', '2005', '2006', '2007', '2008', '2009', '2010', '2011', '2012', '2013', '2014', '2015', '2016', '2017', 'Unnamed: 62'])"
      ]
     },
     "execution_count": 59,
     "metadata": {},
     "output_type": "execute_result"
    }
   ],
   "source": [
    "gdp_df = pd.read_csv('API_NY.GDP.MKTP.CD_DS2_en_csv_v2_10080925.csv')\n",
    "gdp_dict = gdp_df.to_dict()\n",
    "\n",
    "gdp_dict.keys()"
   ]
  },
  {
   "cell_type": "code",
   "execution_count": 60,
   "metadata": {},
   "outputs": [
    {
     "data": {
      "application/vnd.plotly.v1+json": {
       "data": [
        {
         "name": "India",
         "type": "scatter",
         "uid": "01b37198-bb7d-11e8-8da4-80e6500ae360",
         "x": [
          1990,
          1995,
          2000,
          2005,
          2007,
          2009,
          2014
         ],
         "y": [
          316697337894,
          355475984177,
          462146799337,
          808901077222,
          1201111768410,
          1323940295874,
          2039127446299
         ]
        },
        {
         "name": "Mexico",
         "type": "scatter",
         "uid": "01b3736e-bb7d-11e8-8107-80e6500ae360",
         "x": [
          1990,
          1995,
          2000,
          2005,
          2007,
          2009,
          2014
         ],
         "y": [
          262709948090,
          360073909243,
          707906744574,
          877476221382,
          1052696282278,
          900045362045,
          1314385330073
         ]
        },
        {
         "name": "South Africa",
         "type": "scatter",
         "uid": "01b3744a-bb7d-11e8-8fc4-80e6500ae360",
         "x": [
          1990,
          1995,
          2000,
          2005,
          2007,
          2009,
          2014
         ],
         "y": [
          115553279480,
          155460285076,
          136361854808,
          257671413750,
          299033511000,
          297216730668,
          350904575292
         ]
        },
        {
         "name": "Pakistan",
         "type": "scatter",
         "uid": "01b374fe-bb7d-11e8-b3de-80e6500ae360",
         "x": [
          1990,
          1995,
          2000,
          2005,
          2007,
          2009,
          2014
         ],
         "y": [
          40010424928,
          60636022422,
          73952374969,
          109502102510,
          152385716311,
          168152775283,
          244360888750
         ]
        },
        {
         "name": "Kenya",
         "type": "scatter",
         "uid": "01b375b4-bb7d-11e8-865d-80e6500ae360",
         "x": [
          1990,
          1995,
          2000,
          2005,
          2007,
          2009,
          2014
         ],
         "y": [
          8572359162,
          9046326059,
          12705357103,
          18737897744,
          31958195182,
          37021512048,
          61448046801
         ]
        }
       ],
       "layout": {
        "title": "Economic Growth (1990-2014)",
        "xaxis": {
         "title": "Years",
         "titlefont": {
          "color": "#7f7f7f",
          "family": "Helvetica, monospace",
          "size": 14
         }
        },
        "yaxis": {
         "title": "GDP ($)",
         "titlefont": {
          "color": "#7f7f7f",
          "family": "Helvetica, monospace",
          "size": 14
         }
        }
       }
      },
      "text/html": [
       "<div id=\"ad3fe3a8-11d7-402b-b5e4-dcb1d43e4744\" style=\"height: 525px; width: 100%;\" class=\"plotly-graph-div\"></div><script type=\"text/javascript\">require([\"plotly\"], function(Plotly) { window.PLOTLYENV=window.PLOTLYENV || {};window.PLOTLYENV.BASE_URL=\"https://plot.ly\";\n",
       "        Plotly.plot(\n",
       "            'ad3fe3a8-11d7-402b-b5e4-dcb1d43e4744',\n",
       "            [{\"name\": \"India\", \"x\": [1990, 1995, 2000, 2005, 2007, 2009, 2014], \"y\": [316697337894, 355475984177, 462146799337, 808901077222, 1201111768410, 1323940295874, 2039127446299], \"type\": \"scatter\", \"uid\": \"01b37198-bb7d-11e8-8da4-80e6500ae360\"}, {\"name\": \"Mexico\", \"x\": [1990, 1995, 2000, 2005, 2007, 2009, 2014], \"y\": [262709948090, 360073909243, 707906744574, 877476221382, 1052696282278, 900045362045, 1314385330073], \"type\": \"scatter\", \"uid\": \"01b3736e-bb7d-11e8-8107-80e6500ae360\"}, {\"name\": \"South Africa\", \"x\": [1990, 1995, 2000, 2005, 2007, 2009, 2014], \"y\": [115553279480, 155460285076, 136361854808, 257671413750, 299033511000, 297216730668, 350904575292], \"type\": \"scatter\", \"uid\": \"01b3744a-bb7d-11e8-8fc4-80e6500ae360\"}, {\"name\": \"Pakistan\", \"x\": [1990, 1995, 2000, 2005, 2007, 2009, 2014], \"y\": [40010424928, 60636022422, 73952374969, 109502102510, 152385716311, 168152775283, 244360888750], \"type\": \"scatter\", \"uid\": \"01b374fe-bb7d-11e8-b3de-80e6500ae360\"}, {\"name\": \"Kenya\", \"x\": [1990, 1995, 2000, 2005, 2007, 2009, 2014], \"y\": [8572359162, 9046326059, 12705357103, 18737897744, 31958195182, 37021512048, 61448046801], \"type\": \"scatter\", \"uid\": \"01b375b4-bb7d-11e8-865d-80e6500ae360\"}],\n",
       "            {\"title\": \"Economic Growth (1990-2014)\", \"xaxis\": {\"title\": \"Years\", \"titlefont\": {\"color\": \"#7f7f7f\", \"family\": \"Helvetica, monospace\", \"size\": 14}}, \"yaxis\": {\"title\": \"GDP ($)\", \"titlefont\": {\"color\": \"#7f7f7f\", \"family\": \"Helvetica, monospace\", \"size\": 14}}},\n",
       "            {\"showLink\": true, \"linkText\": \"Export to plot.ly\"}\n",
       "        ).then(function () {return Plotly.addFrames('ad3fe3a8-11d7-402b-b5e4-dcb1d43e4744',{});}).then(function(){Plotly.animate('ad3fe3a8-11d7-402b-b5e4-dcb1d43e4744');})\n",
       "        });</script>"
      ],
      "text/vnd.plotly.v1+html": [
       "<div id=\"ad3fe3a8-11d7-402b-b5e4-dcb1d43e4744\" style=\"height: 525px; width: 100%;\" class=\"plotly-graph-div\"></div><script type=\"text/javascript\">require([\"plotly\"], function(Plotly) { window.PLOTLYENV=window.PLOTLYENV || {};window.PLOTLYENV.BASE_URL=\"https://plot.ly\";\n",
       "        Plotly.plot(\n",
       "            'ad3fe3a8-11d7-402b-b5e4-dcb1d43e4744',\n",
       "            [{\"name\": \"India\", \"x\": [1990, 1995, 2000, 2005, 2007, 2009, 2014], \"y\": [316697337894, 355475984177, 462146799337, 808901077222, 1201111768410, 1323940295874, 2039127446299], \"type\": \"scatter\", \"uid\": \"01b37198-bb7d-11e8-8da4-80e6500ae360\"}, {\"name\": \"Mexico\", \"x\": [1990, 1995, 2000, 2005, 2007, 2009, 2014], \"y\": [262709948090, 360073909243, 707906744574, 877476221382, 1052696282278, 900045362045, 1314385330073], \"type\": \"scatter\", \"uid\": \"01b3736e-bb7d-11e8-8107-80e6500ae360\"}, {\"name\": \"South Africa\", \"x\": [1990, 1995, 2000, 2005, 2007, 2009, 2014], \"y\": [115553279480, 155460285076, 136361854808, 257671413750, 299033511000, 297216730668, 350904575292], \"type\": \"scatter\", \"uid\": \"01b3744a-bb7d-11e8-8fc4-80e6500ae360\"}, {\"name\": \"Pakistan\", \"x\": [1990, 1995, 2000, 2005, 2007, 2009, 2014], \"y\": [40010424928, 60636022422, 73952374969, 109502102510, 152385716311, 168152775283, 244360888750], \"type\": \"scatter\", \"uid\": \"01b374fe-bb7d-11e8-b3de-80e6500ae360\"}, {\"name\": \"Kenya\", \"x\": [1990, 1995, 2000, 2005, 2007, 2009, 2014], \"y\": [8572359162, 9046326059, 12705357103, 18737897744, 31958195182, 37021512048, 61448046801], \"type\": \"scatter\", \"uid\": \"01b375b4-bb7d-11e8-865d-80e6500ae360\"}],\n",
       "            {\"title\": \"Economic Growth (1990-2014)\", \"xaxis\": {\"title\": \"Years\", \"titlefont\": {\"color\": \"#7f7f7f\", \"family\": \"Helvetica, monospace\", \"size\": 14}}, \"yaxis\": {\"title\": \"GDP ($)\", \"titlefont\": {\"color\": \"#7f7f7f\", \"family\": \"Helvetica, monospace\", \"size\": 14}}},\n",
       "            {\"showLink\": true, \"linkText\": \"Export to plot.ly\"}\n",
       "        ).then(function () {return Plotly.addFrames('ad3fe3a8-11d7-402b-b5e4-dcb1d43e4744',{});}).then(function(){Plotly.animate('ad3fe3a8-11d7-402b-b5e4-dcb1d43e4744');})\n",
       "        });</script>"
      ]
     },
     "metadata": {},
     "output_type": "display_data"
    }
   ],
   "source": [
    "gdp_1990 = gdp_dict['1990']\n",
    "gdp_1995 = gdp_dict['1995']\n",
    "gdp_2000 = gdp_dict['2000']\n",
    "gdp_2005 = gdp_dict['2005']\n",
    "gdp_2007 = gdp_dict['2007']\n",
    "gdp_2009 = gdp_dict['2009']\n",
    "gdp_2014 = gdp_dict['2014']\n",
    "\n",
    "gdp_yearly_values = [gdp_1990, gdp_1995, gdp_2000, gdp_2005, gdp_2007, gdp_2009, gdp_2014]\n",
    "\n",
    "\n",
    "def output_country_gdp(country):\n",
    "    country_values_list = []\n",
    "    \n",
    "    for year in gdp_yearly_values:\n",
    "        country_values_list.append(int(year[country]))\n",
    "\n",
    "    return country_values_list\n",
    "\n",
    "india_gdp = output_country_gdp(INDIA)\n",
    "kenya_gdp = output_country_gdp(KENYA)\n",
    "mexico_gdp = output_country_gdp(MEXICO)\n",
    "pakistan_gdp = output_country_gdp(PAKISTAN)\n",
    "southafrica_gdp = output_country_gdp(SOUTH_AFRICA)\n",
    "\n",
    "gdp_traces = []\n",
    "for country in [(\"India\", india_gdp), (\"Mexico\", mexico_gdp), (\"South Africa\", southafrica_gdp), (\"Pakistan\", pakistan_gdp), (\"Kenya\", kenya_gdp)]:\n",
    "    gdp_traces.append({'type': 'scatter', 'x': years, 'y': country[1], 'name': country[0]})\n",
    "\n",
    "layout = go.Layout(\n",
    "    title='Economic Growth (1990-2014)',\n",
    "    xaxis=dict(\n",
    "        title='Years',\n",
    "        titlefont=dict(\n",
    "            family='Helvetica, monospace',\n",
    "            size=14,\n",
    "            color='#7f7f7f'\n",
    "        )\n",
    "    ),\n",
    "    yaxis=dict(\n",
    "        title='GDP ($)',\n",
    "        titlefont=dict(\n",
    "            family='Helvetica, monospace',\n",
    "            size=14,\n",
    "            color='#7f7f7f'\n",
    "        )\n",
    "    )\n",
    ")\n",
    "fig = go.Figure(data=gdp_traces, layout=layout)\n",
    "plotly.offline.iplot(fig, filename='styling-names')\n",
    "\n",
    "#plotly.offline.iplot(gdp_traces)"
   ]
  },
  {
   "cell_type": "code",
   "execution_count": 61,
   "metadata": {},
   "outputs": [
    {
     "data": {
      "application/vnd.plotly.v1+json": {
       "data": [
        {
         "mode": "lines+markers",
         "name": "GDP",
         "type": "scatter",
         "uid": "01ca74cc-bb7d-11e8-8e05-80e6500ae360",
         "x": [
          1990,
          1995,
          2000,
          2005,
          2007,
          2009,
          2014
         ],
         "y": [
          0.12244702320794179,
          0.30007882362845095,
          0.7503119752910912,
          0.48486854849416794,
          0.10226236283289203,
          0.5401959232254266
         ]
        },
        {
         "mode": "lines+markers",
         "name": "Total Population",
         "type": "scatter",
         "uid": "01ca77e4-bb7d-11e8-a21d-80e6500ae360",
         "x": [
          1990,
          1995,
          2000,
          2005,
          2007,
          2009,
          2014
         ],
         "y": [
          0.10383385661703305,
          0.09637665295191467,
          0.08647992320432082,
          0.03108293379712811,
          0.02932054173322324,
          0.06554485686715383
         ]
        },
        {
         "mode": "lines+markers",
         "name": "Slum Population",
         "type": "scatter",
         "uid": "01ca79ba-bb7d-11e8-a17b-80e6500ae360",
         "x": [
          1990,
          1995,
          2000,
          2005,
          2007,
          2009,
          2014
         ],
         "y": [
          -0.030878107012369687,
          -0.056024251738525856,
          -0.08892767911759998,
          -0.04891488051921147,
          -0.0572578219338765,
          -0.13016746338184093
         ]
        }
       ],
       "layout": {
        "title": "India : GDP to Population Analysis",
        "xaxis": {
         "title": "Years",
         "titlefont": {
          "family": "Helvetica, monospace",
          "size": 14
         },
         "zeroline": false
        },
        "yaxis": {
         "title": "Growth Rate (%)",
         "titlefont": {
          "family": "Helvetica, monospace",
          "size": 14
         },
         "zeroline": false
        }
       }
      },
      "text/html": [
       "<div id=\"546753d3-8636-4881-8d9a-1fa3747e7b42\" style=\"height: 525px; width: 100%;\" class=\"plotly-graph-div\"></div><script type=\"text/javascript\">require([\"plotly\"], function(Plotly) { window.PLOTLYENV=window.PLOTLYENV || {};window.PLOTLYENV.BASE_URL=\"https://plot.ly\";Plotly.newPlot(\"546753d3-8636-4881-8d9a-1fa3747e7b42\", [{\"mode\": \"lines+markers\", \"name\": \"GDP\", \"x\": [1990, 1995, 2000, 2005, 2007, 2009, 2014], \"y\": [0.12244702320794179, 0.30007882362845095, 0.7503119752910912, 0.48486854849416794, 0.10226236283289203, 0.5401959232254266], \"type\": \"scatter\", \"uid\": \"01d1d0fa-bb7d-11e8-a997-80e6500ae360\"}, {\"mode\": \"lines+markers\", \"name\": \"Total Population\", \"x\": [1990, 1995, 2000, 2005, 2007, 2009, 2014], \"y\": [0.10383385661703305, 0.09637665295191467, 0.08647992320432082, 0.03108293379712811, 0.02932054173322324, 0.06554485686715383], \"type\": \"scatter\", \"uid\": \"01d1d298-bb7d-11e8-9e4a-80e6500ae360\"}, {\"mode\": \"lines+markers\", \"name\": \"Slum Population\", \"x\": [1990, 1995, 2000, 2005, 2007, 2009, 2014], \"y\": [-0.030878107012369687, -0.056024251738525856, -0.08892767911759998, -0.04891488051921147, -0.0572578219338765, -0.13016746338184093], \"type\": \"scatter\", \"uid\": \"01d1d374-bb7d-11e8-8dab-80e6500ae360\"}], {\"title\": \"India : GDP to Population Analysis\", \"xaxis\": {\"title\": \"Years\", \"titlefont\": {\"family\": \"Helvetica, monospace\", \"size\": 14}, \"zeroline\": false}, \"yaxis\": {\"title\": \"Growth Rate (%)\", \"titlefont\": {\"family\": \"Helvetica, monospace\", \"size\": 14}, \"zeroline\": false}}, {\"showLink\": true, \"linkText\": \"Export to plot.ly\"})});</script>"
      ],
      "text/vnd.plotly.v1+html": [
       "<div id=\"546753d3-8636-4881-8d9a-1fa3747e7b42\" style=\"height: 525px; width: 100%;\" class=\"plotly-graph-div\"></div><script type=\"text/javascript\">require([\"plotly\"], function(Plotly) { window.PLOTLYENV=window.PLOTLYENV || {};window.PLOTLYENV.BASE_URL=\"https://plot.ly\";Plotly.newPlot(\"546753d3-8636-4881-8d9a-1fa3747e7b42\", [{\"mode\": \"lines+markers\", \"name\": \"GDP\", \"x\": [1990, 1995, 2000, 2005, 2007, 2009, 2014], \"y\": [0.12244702320794179, 0.30007882362845095, 0.7503119752910912, 0.48486854849416794, 0.10226236283289203, 0.5401959232254266], \"type\": \"scatter\", \"uid\": \"01d1d0fa-bb7d-11e8-a997-80e6500ae360\"}, {\"mode\": \"lines+markers\", \"name\": \"Total Population\", \"x\": [1990, 1995, 2000, 2005, 2007, 2009, 2014], \"y\": [0.10383385661703305, 0.09637665295191467, 0.08647992320432082, 0.03108293379712811, 0.02932054173322324, 0.06554485686715383], \"type\": \"scatter\", \"uid\": \"01d1d298-bb7d-11e8-9e4a-80e6500ae360\"}, {\"mode\": \"lines+markers\", \"name\": \"Slum Population\", \"x\": [1990, 1995, 2000, 2005, 2007, 2009, 2014], \"y\": [-0.030878107012369687, -0.056024251738525856, -0.08892767911759998, -0.04891488051921147, -0.0572578219338765, -0.13016746338184093], \"type\": \"scatter\", \"uid\": \"01d1d374-bb7d-11e8-8dab-80e6500ae360\"}], {\"title\": \"India : GDP to Population Analysis\", \"xaxis\": {\"title\": \"Years\", \"titlefont\": {\"family\": \"Helvetica, monospace\", \"size\": 14}, \"zeroline\": false}, \"yaxis\": {\"title\": \"Growth Rate (%)\", \"titlefont\": {\"family\": \"Helvetica, monospace\", \"size\": 14}, \"zeroline\": false}}, {\"showLink\": true, \"linkText\": \"Export to plot.ly\"})});</script>"
      ]
     },
     "metadata": {},
     "output_type": "display_data"
    },
    {
     "data": {
      "application/vnd.plotly.v1+json": {
       "data": [
        {
         "mode": "lines+markers",
         "name": "GDP",
         "type": "scatter",
         "uid": "01dc799e-bb7d-11e8-bead-80e6500ae360",
         "x": [
          1990,
          1995,
          2000,
          2005,
          2007,
          2009,
          2014
         ],
         "y": [
          0.05529013519417445,
          0.4044770241682486,
          0.47480291912264244,
          0.705537922056023,
          0.15843563246186823,
          0.6597930068693557
         ]
        },
        {
         "mode": "lines+markers",
         "name": "Total Population",
         "type": "scatter",
         "uid": "01dc7e1c-bb7d-11e8-bb31-80e6500ae360",
         "x": [
          1990,
          1995,
          2000,
          2005,
          2007,
          2009,
          2014
         ],
         "y": [
          0.16852677364865226,
          0.1500752784931254,
          0.1461918724745817,
          0.05652476478217218,
          0.05648532637096833,
          0.14382326366414525
         ]
        },
        {
         "mode": "lines+markers",
         "name": "Slum Population",
         "type": "scatter",
         "uid": "01dc7ff4-bb7d-11e8-aeeb-80e6500ae360",
         "x": [
          1990,
          1995,
          2000,
          2005,
          2007,
          2009,
          2014
         ],
         "y": [
          0.16639827160324708,
          0.15007530099880173,
          0.14619187015342855,
          0.05652480217000099,
          0.05455741193626894,
          0.17100739445018684
         ]
        }
       ],
       "layout": {
        "title": "Kenya : GDP to Population Analysis",
        "xaxis": {
         "title": "Years",
         "titlefont": {
          "family": "Helvetica, monospace",
          "size": 14
         },
         "zeroline": false
        },
        "yaxis": {
         "title": "Growth Rate (%)",
         "titlefont": {
          "family": "Helvetica, monospace",
          "size": 14
         },
         "zeroline": false
        }
       }
      },
      "text/html": [
       "<div id=\"4143b0a7-d4d6-4800-98f1-3d5fa5977953\" style=\"height: 525px; width: 100%;\" class=\"plotly-graph-div\"></div><script type=\"text/javascript\">require([\"plotly\"], function(Plotly) { window.PLOTLYENV=window.PLOTLYENV || {};window.PLOTLYENV.BASE_URL=\"https://plot.ly\";Plotly.newPlot(\"4143b0a7-d4d6-4800-98f1-3d5fa5977953\", [{\"mode\": \"lines+markers\", \"name\": \"GDP\", \"x\": [1990, 1995, 2000, 2005, 2007, 2009, 2014], \"y\": [0.05529013519417445, 0.4044770241682486, 0.47480291912264244, 0.705537922056023, 0.15843563246186823, 0.6597930068693557], \"type\": \"scatter\", \"uid\": \"01e7085a-bb7d-11e8-b507-80e6500ae360\"}, {\"mode\": \"lines+markers\", \"name\": \"Total Population\", \"x\": [1990, 1995, 2000, 2005, 2007, 2009, 2014], \"y\": [0.16852677364865226, 0.1500752784931254, 0.1461918724745817, 0.05652476478217218, 0.05648532637096833, 0.14382326366414525], \"type\": \"scatter\", \"uid\": \"01e70a12-bb7d-11e8-9781-80e6500ae360\"}, {\"mode\": \"lines+markers\", \"name\": \"Slum Population\", \"x\": [1990, 1995, 2000, 2005, 2007, 2009, 2014], \"y\": [0.16639827160324708, 0.15007530099880173, 0.14619187015342855, 0.05652480217000099, 0.05455741193626894, 0.17100739445018684], \"type\": \"scatter\", \"uid\": \"01e70aee-bb7d-11e8-94ec-80e6500ae360\"}], {\"title\": \"Kenya : GDP to Population Analysis\", \"xaxis\": {\"title\": \"Years\", \"titlefont\": {\"family\": \"Helvetica, monospace\", \"size\": 14}, \"zeroline\": false}, \"yaxis\": {\"title\": \"Growth Rate (%)\", \"titlefont\": {\"family\": \"Helvetica, monospace\", \"size\": 14}, \"zeroline\": false}}, {\"showLink\": true, \"linkText\": \"Export to plot.ly\"})});</script>"
      ],
      "text/vnd.plotly.v1+html": [
       "<div id=\"4143b0a7-d4d6-4800-98f1-3d5fa5977953\" style=\"height: 525px; width: 100%;\" class=\"plotly-graph-div\"></div><script type=\"text/javascript\">require([\"plotly\"], function(Plotly) { window.PLOTLYENV=window.PLOTLYENV || {};window.PLOTLYENV.BASE_URL=\"https://plot.ly\";Plotly.newPlot(\"4143b0a7-d4d6-4800-98f1-3d5fa5977953\", [{\"mode\": \"lines+markers\", \"name\": \"GDP\", \"x\": [1990, 1995, 2000, 2005, 2007, 2009, 2014], \"y\": [0.05529013519417445, 0.4044770241682486, 0.47480291912264244, 0.705537922056023, 0.15843563246186823, 0.6597930068693557], \"type\": \"scatter\", \"uid\": \"01e7085a-bb7d-11e8-b507-80e6500ae360\"}, {\"mode\": \"lines+markers\", \"name\": \"Total Population\", \"x\": [1990, 1995, 2000, 2005, 2007, 2009, 2014], \"y\": [0.16852677364865226, 0.1500752784931254, 0.1461918724745817, 0.05652476478217218, 0.05648532637096833, 0.14382326366414525], \"type\": \"scatter\", \"uid\": \"01e70a12-bb7d-11e8-9781-80e6500ae360\"}, {\"mode\": \"lines+markers\", \"name\": \"Slum Population\", \"x\": [1990, 1995, 2000, 2005, 2007, 2009, 2014], \"y\": [0.16639827160324708, 0.15007530099880173, 0.14619187015342855, 0.05652480217000099, 0.05455741193626894, 0.17100739445018684], \"type\": \"scatter\", \"uid\": \"01e70aee-bb7d-11e8-94ec-80e6500ae360\"}], {\"title\": \"Kenya : GDP to Population Analysis\", \"xaxis\": {\"title\": \"Years\", \"titlefont\": {\"family\": \"Helvetica, monospace\", \"size\": 14}, \"zeroline\": false}, \"yaxis\": {\"title\": \"Growth Rate (%)\", \"titlefont\": {\"family\": \"Helvetica, monospace\", \"size\": 14}, \"zeroline\": false}}, {\"showLink\": true, \"linkText\": \"Export to plot.ly\"})});</script>"
      ]
     },
     "metadata": {},
     "output_type": "display_data"
    },
    {
     "data": {
      "application/vnd.plotly.v1+json": {
       "data": [
        {
         "mode": "lines+markers",
         "name": "GDP",
         "type": "scatter",
         "uid": "01f0611e-bb7d-11e8-abb9-80e6500ae360",
         "x": [
          1990,
          1995,
          2000,
          2005,
          2007,
          2009,
          2014
         ],
         "y": [
          0.37061391036339725,
          0.9660039964080291,
          0.23953646169883935,
          0.19968639220790896,
          -0.1450094607560202,
          0.4603545393385229
         ]
        },
        {
         "mode": "lines+markers",
         "name": "Total Population",
         "type": "scatter",
         "uid": "01f0639e-bb7d-11e8-acea-80e6500ae360",
         "x": [
          1990,
          1995,
          2000,
          2005,
          2007,
          2009,
          2014
         ],
         "y": [
          0.10177977253744629,
          0.08159973155144273,
          0.06638396291344743,
          0.031013634199529856,
          0.03280581073348015,
          0.07546300847958155
         ]
        },
        {
         "mode": "lines+markers",
         "name": "Slum Population",
         "type": "scatter",
         "uid": "01f064f4-bb7d-11e8-af6c-80e6500ae360",
         "x": [
          1990,
          1995,
          2000,
          2005,
          2007,
          2009,
          2014
         ],
         "y": [
          0.025466043956110834,
          0.0011085669051408473,
          -0.22834527883165348,
          0.031013636363636365,
          0.03280581191526582,
          -0.1709972589021949
         ]
        }
       ],
       "layout": {
        "title": "Mexico : GDP to Population Analysis",
        "xaxis": {
         "title": "Years",
         "titlefont": {
          "family": "Helvetica, monospace",
          "size": 14
         },
         "zeroline": false
        },
        "yaxis": {
         "title": "Growth Rate (%)",
         "titlefont": {
          "family": "Helvetica, monospace",
          "size": 14
         },
         "zeroline": false
        }
       }
      },
      "text/html": [
       "<div id=\"99a2710f-cf79-4f50-b0f8-8cbc8972d7cf\" style=\"height: 525px; width: 100%;\" class=\"plotly-graph-div\"></div><script type=\"text/javascript\">require([\"plotly\"], function(Plotly) { window.PLOTLYENV=window.PLOTLYENV || {};window.PLOTLYENV.BASE_URL=\"https://plot.ly\";Plotly.newPlot(\"99a2710f-cf79-4f50-b0f8-8cbc8972d7cf\", [{\"mode\": \"lines+markers\", \"name\": \"GDP\", \"x\": [1990, 1995, 2000, 2005, 2007, 2009, 2014], \"y\": [0.37061391036339725, 0.9660039964080291, 0.23953646169883935, 0.19968639220790896, -0.1450094607560202, 0.4603545393385229], \"type\": \"scatter\", \"uid\": \"01fcc302-bb7d-11e8-a1af-80e6500ae360\"}, {\"mode\": \"lines+markers\", \"name\": \"Total Population\", \"x\": [1990, 1995, 2000, 2005, 2007, 2009, 2014], \"y\": [0.10177977253744629, 0.08159973155144273, 0.06638396291344743, 0.031013634199529856, 0.03280581073348015, 0.07546300847958155], \"type\": \"scatter\", \"uid\": \"01fcc598-bb7d-11e8-acaf-80e6500ae360\"}, {\"mode\": \"lines+markers\", \"name\": \"Slum Population\", \"x\": [1990, 1995, 2000, 2005, 2007, 2009, 2014], \"y\": [0.025466043956110834, 0.0011085669051408473, -0.22834527883165348, 0.031013636363636365, 0.03280581191526582, -0.1709972589021949], \"type\": \"scatter\", \"uid\": \"01fcc71c-bb7d-11e8-b2a0-80e6500ae360\"}], {\"title\": \"Mexico : GDP to Population Analysis\", \"xaxis\": {\"title\": \"Years\", \"titlefont\": {\"family\": \"Helvetica, monospace\", \"size\": 14}, \"zeroline\": false}, \"yaxis\": {\"title\": \"Growth Rate (%)\", \"titlefont\": {\"family\": \"Helvetica, monospace\", \"size\": 14}, \"zeroline\": false}}, {\"showLink\": true, \"linkText\": \"Export to plot.ly\"})});</script>"
      ],
      "text/vnd.plotly.v1+html": [
       "<div id=\"99a2710f-cf79-4f50-b0f8-8cbc8972d7cf\" style=\"height: 525px; width: 100%;\" class=\"plotly-graph-div\"></div><script type=\"text/javascript\">require([\"plotly\"], function(Plotly) { window.PLOTLYENV=window.PLOTLYENV || {};window.PLOTLYENV.BASE_URL=\"https://plot.ly\";Plotly.newPlot(\"99a2710f-cf79-4f50-b0f8-8cbc8972d7cf\", [{\"mode\": \"lines+markers\", \"name\": \"GDP\", \"x\": [1990, 1995, 2000, 2005, 2007, 2009, 2014], \"y\": [0.37061391036339725, 0.9660039964080291, 0.23953646169883935, 0.19968639220790896, -0.1450094607560202, 0.4603545393385229], \"type\": \"scatter\", \"uid\": \"01fcc302-bb7d-11e8-a1af-80e6500ae360\"}, {\"mode\": \"lines+markers\", \"name\": \"Total Population\", \"x\": [1990, 1995, 2000, 2005, 2007, 2009, 2014], \"y\": [0.10177977253744629, 0.08159973155144273, 0.06638396291344743, 0.031013634199529856, 0.03280581073348015, 0.07546300847958155], \"type\": \"scatter\", \"uid\": \"01fcc598-bb7d-11e8-acaf-80e6500ae360\"}, {\"mode\": \"lines+markers\", \"name\": \"Slum Population\", \"x\": [1990, 1995, 2000, 2005, 2007, 2009, 2014], \"y\": [0.025466043956110834, 0.0011085669051408473, -0.22834527883165348, 0.031013636363636365, 0.03280581191526582, -0.1709972589021949], \"type\": \"scatter\", \"uid\": \"01fcc71c-bb7d-11e8-b2a0-80e6500ae360\"}], {\"title\": \"Mexico : GDP to Population Analysis\", \"xaxis\": {\"title\": \"Years\", \"titlefont\": {\"family\": \"Helvetica, monospace\", \"size\": 14}, \"zeroline\": false}, \"yaxis\": {\"title\": \"Growth Rate (%)\", \"titlefont\": {\"family\": \"Helvetica, monospace\", \"size\": 14}, \"zeroline\": false}}, {\"showLink\": true, \"linkText\": \"Export to plot.ly\"})});</script>"
      ]
     },
     "metadata": {},
     "output_type": "display_data"
    },
    {
     "data": {
      "application/vnd.plotly.v1+json": {
       "data": [
        {
         "mode": "lines+markers",
         "name": "GDP",
         "type": "scatter",
         "uid": "0206d728-bb7d-11e8-bd74-80e6500ae360",
         "x": [
          1990,
          1995,
          2000,
          2005,
          2007,
          2009,
          2014
         ],
         "y": [
          0.5155055846349146,
          0.21961124782104033,
          0.4807111002980235,
          0.3916236566972197,
          0.10346808975075737,
          0.45320758660534893
         ]
        },
        {
         "mode": "lines+markers",
         "name": "Total Population",
         "type": "scatter",
         "uid": "0206d934-bb7d-11e8-91ab-80e6500ae360",
         "x": [
          1990,
          1995,
          2000,
          2005,
          2007,
          2009,
          2014
         ],
         "y": [
          0.14070142098968696,
          0.12777209038362783,
          0.11107433670808485,
          0.04173426611338195,
          0.041891607399486025,
          0.1107256719831322
         ]
        },
        {
         "mode": "lines+markers",
         "name": "Slum Population",
         "type": "scatter",
         "uid": "0206da40-bb7d-11e8-9f08-80e6500ae360",
         "x": [
          1990,
          1995,
          2000,
          2005,
          2007,
          2009,
          2014
         ],
         "y": [
          0.11386137757469382,
          0.10286146157733875,
          0.08369673552384962,
          0.03076864322231068,
          0.03302445176027755,
          0.08450681753858277
         ]
        }
       ],
       "layout": {
        "title": "Pakistan : GDP to Population Analysis",
        "xaxis": {
         "title": "Years",
         "titlefont": {
          "family": "Helvetica, monospace",
          "size": 14
         },
         "zeroline": false
        },
        "yaxis": {
         "title": "Growth Rate (%)",
         "titlefont": {
          "family": "Helvetica, monospace",
          "size": 14
         },
         "zeroline": false
        }
       }
      },
      "text/html": [
       "<div id=\"4b2eaa0c-3247-4369-996c-263c1438f45f\" style=\"height: 525px; width: 100%;\" class=\"plotly-graph-div\"></div><script type=\"text/javascript\">require([\"plotly\"], function(Plotly) { window.PLOTLYENV=window.PLOTLYENV || {};window.PLOTLYENV.BASE_URL=\"https://plot.ly\";Plotly.newPlot(\"4b2eaa0c-3247-4369-996c-263c1438f45f\", [{\"mode\": \"lines+markers\", \"name\": \"GDP\", \"x\": [1990, 1995, 2000, 2005, 2007, 2009, 2014], \"y\": [0.5155055846349146, 0.21961124782104033, 0.4807111002980235, 0.3916236566972197, 0.10346808975075737, 0.45320758660534893], \"type\": \"scatter\", \"uid\": \"030d2dd8-bb7d-11e8-8ba1-80e6500ae360\"}, {\"mode\": \"lines+markers\", \"name\": \"Total Population\", \"x\": [1990, 1995, 2000, 2005, 2007, 2009, 2014], \"y\": [0.14070142098968696, 0.12777209038362783, 0.11107433670808485, 0.04173426611338195, 0.041891607399486025, 0.1107256719831322], \"type\": \"scatter\", \"uid\": \"030d2f86-bb7d-11e8-9e1a-80e6500ae360\"}, {\"mode\": \"lines+markers\", \"name\": \"Slum Population\", \"x\": [1990, 1995, 2000, 2005, 2007, 2009, 2014], \"y\": [0.11386137757469382, 0.10286146157733875, 0.08369673552384962, 0.03076864322231068, 0.03302445176027755, 0.08450681753858277], \"type\": \"scatter\", \"uid\": \"030d3062-bb7d-11e8-822b-80e6500ae360\"}], {\"title\": \"Pakistan : GDP to Population Analysis\", \"xaxis\": {\"title\": \"Years\", \"titlefont\": {\"family\": \"Helvetica, monospace\", \"size\": 14}, \"zeroline\": false}, \"yaxis\": {\"title\": \"Growth Rate (%)\", \"titlefont\": {\"family\": \"Helvetica, monospace\", \"size\": 14}, \"zeroline\": false}}, {\"showLink\": true, \"linkText\": \"Export to plot.ly\"})});</script>"
      ],
      "text/vnd.plotly.v1+html": [
       "<div id=\"4b2eaa0c-3247-4369-996c-263c1438f45f\" style=\"height: 525px; width: 100%;\" class=\"plotly-graph-div\"></div><script type=\"text/javascript\">require([\"plotly\"], function(Plotly) { window.PLOTLYENV=window.PLOTLYENV || {};window.PLOTLYENV.BASE_URL=\"https://plot.ly\";Plotly.newPlot(\"4b2eaa0c-3247-4369-996c-263c1438f45f\", [{\"mode\": \"lines+markers\", \"name\": \"GDP\", \"x\": [1990, 1995, 2000, 2005, 2007, 2009, 2014], \"y\": [0.5155055846349146, 0.21961124782104033, 0.4807111002980235, 0.3916236566972197, 0.10346808975075737, 0.45320758660534893], \"type\": \"scatter\", \"uid\": \"030d2dd8-bb7d-11e8-8ba1-80e6500ae360\"}, {\"mode\": \"lines+markers\", \"name\": \"Total Population\", \"x\": [1990, 1995, 2000, 2005, 2007, 2009, 2014], \"y\": [0.14070142098968696, 0.12777209038362783, 0.11107433670808485, 0.04173426611338195, 0.041891607399486025, 0.1107256719831322], \"type\": \"scatter\", \"uid\": \"030d2f86-bb7d-11e8-9e1a-80e6500ae360\"}, {\"mode\": \"lines+markers\", \"name\": \"Slum Population\", \"x\": [1990, 1995, 2000, 2005, 2007, 2009, 2014], \"y\": [0.11386137757469382, 0.10286146157733875, 0.08369673552384962, 0.03076864322231068, 0.03302445176027755, 0.08450681753858277], \"type\": \"scatter\", \"uid\": \"030d3062-bb7d-11e8-822b-80e6500ae360\"}], {\"title\": \"Pakistan : GDP to Population Analysis\", \"xaxis\": {\"title\": \"Years\", \"titlefont\": {\"family\": \"Helvetica, monospace\", \"size\": 14}, \"zeroline\": false}, \"yaxis\": {\"title\": \"Growth Rate (%)\", \"titlefont\": {\"family\": \"Helvetica, monospace\", \"size\": 14}, \"zeroline\": false}}, {\"showLink\": true, \"linkText\": \"Export to plot.ly\"})});</script>"
      ]
     },
     "metadata": {},
     "output_type": "display_data"
    },
    {
     "data": {
      "application/vnd.plotly.v1+json": {
       "data": [
        {
         "mode": "lines+markers",
         "name": "GDP",
         "type": "scatter",
         "uid": "03155698-bb7d-11e8-b5c8-80e6500ae360",
         "x": [
          1990,
          1995,
          2000,
          2005,
          2007,
          2009,
          2014
         ],
         "y": [
          0.34535588929699845,
          -0.12285086354153625,
          0.889615054831911,
          0.16052264645130818,
          -0.006075507477153622,
          0.18063533806907706
         ]
        },
        {
         "mode": "lines+markers",
         "name": "Total Population",
         "type": "scatter",
         "uid": "03155830-bb7d-11e8-bbcf-80e6500ae360",
         "x": [
          1990,
          1995,
          2000,
          2005,
          2007,
          2009,
          2014
         ],
         "y": [
          0.1205425110538258,
          0.08648868393288232,
          0.06762267535989464,
          0.02184723878570405,
          0.021721752527969058,
          0.07001561167803899
         ]
        },
        {
         "mode": "lines+markers",
         "name": "Slum Population",
         "type": "scatter",
         "uid": "0315591e-bb7d-11e8-99d8-80e6500ae360",
         "x": [
          1990,
          1995,
          2000,
          2005,
          2007,
          2009,
          2014
         ],
         "y": [
          -0.03710957241766564,
          -0.09139989877312234,
          -0.07708519411400493,
          -0.18109806596120845,
          0.021721796425691327,
          0.07001559630711111
         ]
        }
       ],
       "layout": {
        "title": "South Africa : GDP to Population Analysis",
        "xaxis": {
         "title": "Years",
         "titlefont": {
          "family": "Helvetica, monospace",
          "size": 14
         },
         "zeroline": false
        },
        "yaxis": {
         "title": "Growth Rate (%)",
         "titlefont": {
          "family": "Helvetica, monospace",
          "size": 14
         },
         "zeroline": false
        }
       }
      },
      "text/html": [
       "<div id=\"6d49adb4-c8e1-4183-aff3-294110e06d45\" style=\"height: 525px; width: 100%;\" class=\"plotly-graph-div\"></div><script type=\"text/javascript\">require([\"plotly\"], function(Plotly) { window.PLOTLYENV=window.PLOTLYENV || {};window.PLOTLYENV.BASE_URL=\"https://plot.ly\";Plotly.newPlot(\"6d49adb4-c8e1-4183-aff3-294110e06d45\", [{\"mode\": \"lines+markers\", \"name\": \"GDP\", \"x\": [1990, 1995, 2000, 2005, 2007, 2009, 2014], \"y\": [0.34535588929699845, -0.12285086354153625, 0.889615054831911, 0.16052264645130818, -0.006075507477153622, 0.18063533806907706], \"type\": \"scatter\", \"uid\": \"031acafe-bb7d-11e8-a799-80e6500ae360\"}, {\"mode\": \"lines+markers\", \"name\": \"Total Population\", \"x\": [1990, 1995, 2000, 2005, 2007, 2009, 2014], \"y\": [0.1205425110538258, 0.08648868393288232, 0.06762267535989464, 0.02184723878570405, 0.021721752527969058, 0.07001561167803899], \"type\": \"scatter\", \"uid\": \"031accca-bb7d-11e8-8212-80e6500ae360\"}, {\"mode\": \"lines+markers\", \"name\": \"Slum Population\", \"x\": [1990, 1995, 2000, 2005, 2007, 2009, 2014], \"y\": [-0.03710957241766564, -0.09139989877312234, -0.07708519411400493, -0.18109806596120845, 0.021721796425691327, 0.07001559630711111], \"type\": \"scatter\", \"uid\": \"031acdba-bb7d-11e8-80f3-80e6500ae360\"}], {\"title\": \"South Africa : GDP to Population Analysis\", \"xaxis\": {\"title\": \"Years\", \"titlefont\": {\"family\": \"Helvetica, monospace\", \"size\": 14}, \"zeroline\": false}, \"yaxis\": {\"title\": \"Growth Rate (%)\", \"titlefont\": {\"family\": \"Helvetica, monospace\", \"size\": 14}, \"zeroline\": false}}, {\"showLink\": true, \"linkText\": \"Export to plot.ly\"})});</script>"
      ],
      "text/vnd.plotly.v1+html": [
       "<div id=\"6d49adb4-c8e1-4183-aff3-294110e06d45\" style=\"height: 525px; width: 100%;\" class=\"plotly-graph-div\"></div><script type=\"text/javascript\">require([\"plotly\"], function(Plotly) { window.PLOTLYENV=window.PLOTLYENV || {};window.PLOTLYENV.BASE_URL=\"https://plot.ly\";Plotly.newPlot(\"6d49adb4-c8e1-4183-aff3-294110e06d45\", [{\"mode\": \"lines+markers\", \"name\": \"GDP\", \"x\": [1990, 1995, 2000, 2005, 2007, 2009, 2014], \"y\": [0.34535588929699845, -0.12285086354153625, 0.889615054831911, 0.16052264645130818, -0.006075507477153622, 0.18063533806907706], \"type\": \"scatter\", \"uid\": \"031acafe-bb7d-11e8-a799-80e6500ae360\"}, {\"mode\": \"lines+markers\", \"name\": \"Total Population\", \"x\": [1990, 1995, 2000, 2005, 2007, 2009, 2014], \"y\": [0.1205425110538258, 0.08648868393288232, 0.06762267535989464, 0.02184723878570405, 0.021721752527969058, 0.07001561167803899], \"type\": \"scatter\", \"uid\": \"031accca-bb7d-11e8-8212-80e6500ae360\"}, {\"mode\": \"lines+markers\", \"name\": \"Slum Population\", \"x\": [1990, 1995, 2000, 2005, 2007, 2009, 2014], \"y\": [-0.03710957241766564, -0.09139989877312234, -0.07708519411400493, -0.18109806596120845, 0.021721796425691327, 0.07001559630711111], \"type\": \"scatter\", \"uid\": \"031acdba-bb7d-11e8-80f3-80e6500ae360\"}], {\"title\": \"South Africa : GDP to Population Analysis\", \"xaxis\": {\"title\": \"Years\", \"titlefont\": {\"family\": \"Helvetica, monospace\", \"size\": 14}, \"zeroline\": false}, \"yaxis\": {\"title\": \"Growth Rate (%)\", \"titlefont\": {\"family\": \"Helvetica, monospace\", \"size\": 14}, \"zeroline\": false}}, {\"showLink\": true, \"linkText\": \"Export to plot.ly\"})});</script>"
      ]
     },
     "metadata": {},
     "output_type": "display_data"
    }
   ],
   "source": [
    "# Visualization of GDP, Population, and Slum Population Growth Rates in each country \n",
    "\n",
    "# Values to visualize \n",
    "\n",
    "def output_growthrates(list):\n",
    "    growthrates = []\n",
    "    for i in range(0,len(list)-1):\n",
    "        growthrates.append((list[i+1]-list[i])/list[i])\n",
    "    return growthrates\n",
    "\n",
    "def output_3_growthrates(country_gdp, country_totalpop, country_slumpop):\n",
    "    country_gdp_growthrate = output_growthrates(country_gdp)\n",
    "    country_population_growthrate = output_growthrates(country_totalpop)\n",
    "    country_slum_growthrate = output_growthrates(country_slumpop)\n",
    "    return country_gdp_growthrate, country_population_growthrate, country_slum_growthrate\n",
    "\n",
    "india = 'India'\n",
    "kenya = 'Kenya'\n",
    "mexico = 'Mexico'\n",
    "pakistan = 'Pakistan'\n",
    "southafrica = 'South Africa'\n",
    "\n",
    "india_growthrates = output_3_growthrates(india_gdp,india_totalpops,india_slumpops)\n",
    "kenya_growthrates = output_3_growthrates(kenya_gdp,kenya_totalpops,kenya_slumpops)\n",
    "mexico_growthrates = output_3_growthrates(mexico_gdp,mexico_totalpops,mexico_slumpops)\n",
    "pakistan_growthrates = output_3_growthrates(pakistan_gdp,pakistan_totalpops,pakistan_slumpops)\n",
    "southafrica_growthrates = output_3_growthrates(southafrica_gdp,southafrica_totalpops,southafrica_slumpops)\n",
    "\n",
    "\n",
    "def chart_3_growthrates(country, country_growthrates):\n",
    "    country_gdp_growthrate = go.Scatter(\n",
    "        x = years,\n",
    "        y = country_growthrates[0],\n",
    "        mode = 'lines+markers',\n",
    "        name = 'GDP'\n",
    "    )\n",
    "    country_population_growthrate = go.Scatter(\n",
    "        x = years,\n",
    "        y = country_growthrates[1],\n",
    "        mode = 'lines+markers',\n",
    "        name = 'Total Population'\n",
    "    )\n",
    "    country_slum_growthrate = go.Scatter(\n",
    "        x = years,\n",
    "        y = country_growthrates[2],\n",
    "        mode = 'lines+markers',\n",
    "        name = 'Slum Population'\n",
    "    )\n",
    "    \n",
    "    data = [country_gdp_growthrate, country_population_growthrate, country_slum_growthrate]\n",
    "\n",
    "    layout = dict(\n",
    "        title = country + ' : GDP to Population Analysis',\n",
    "        xaxis=dict(\n",
    "            zeroline = False,\n",
    "            title='Years',\n",
    "            titlefont=dict(\n",
    "                family='Helvetica, monospace',\n",
    "                size=14,\n",
    "            )\n",
    "        ),\n",
    "        yaxis=dict(\n",
    "            zeroline = False,\n",
    "            title='Growth Rate (%)',\n",
    "            titlefont=dict(\n",
    "                family='Helvetica, monospace',\n",
    "                size=14,\n",
    "            )\n",
    "        )\n",
    "    )\n",
    "    fig = dict(data=data, layout=layout)\n",
    "\n",
    "    return plotly.offline.iplot(fig)\n",
    "\n",
    "chart_3_growthrates(india, india_growthrates)\n",
    "chart_3_growthrates(kenya, kenya_growthrates)\n",
    "chart_3_growthrates(mexico, mexico_growthrates)\n",
    "chart_3_growthrates(pakistan, pakistan_growthrates)\n",
    "chart_3_growthrates(southafrica, southafrica_growthrates)\n"
   ]
  },
  {
   "cell_type": "markdown",
   "metadata": {},
   "source": [
    "# FINAL PROJECT "
   ]
  },
  {
   "cell_type": "code",
   "execution_count": 62,
   "metadata": {},
   "outputs": [
    {
     "data": {
      "application/vnd.plotly.v1+json": {
       "data": [
        {
         "mode": "lines+markers",
         "name": "Population Growth vs GDP Growth",
         "type": "scatter",
         "uid": "036f181e-bb7d-11e8-808a-80e6500ae360",
         "x": [
          316697337894,
          355475984177,
          462146799337,
          808901077222,
          1201111768410,
          1323940295874,
          2039127446299
         ],
         "y": [
          477703280,
          462952707,
          437016128,
          398153298,
          378677677,
          356995418,
          310526230
         ]
        }
       ],
       "layout": {
        "title": "India",
        "xaxis": {
         "title": "GDP ($)",
         "titlefont": {
          "family": "Helvetica, monospace",
          "size": 14
         },
         "zeroline": false
        },
        "yaxis": {
         "title": "Slum Population",
         "titlefont": {
          "family": "Helvetica, monospace",
          "size": 14
         },
         "zeroline": false
        }
       }
      },
      "text/html": [
       "<div id=\"142b3306-10da-43b1-bb40-a8680e831db7\" style=\"height: 525px; width: 100%;\" class=\"plotly-graph-div\"></div><script type=\"text/javascript\">require([\"plotly\"], function(Plotly) { window.PLOTLYENV=window.PLOTLYENV || {};window.PLOTLYENV.BASE_URL=\"https://plot.ly\";Plotly.newPlot(\"142b3306-10da-43b1-bb40-a8680e831db7\", [{\"mode\": \"lines+markers\", \"name\": \"Population Growth vs GDP Growth\", \"x\": [316697337894, 355475984177, 462146799337, 808901077222, 1201111768410, 1323940295874, 2039127446299], \"y\": [477703280, 462952707, 437016128, 398153298, 378677677, 356995418, 310526230], \"type\": \"scatter\", \"uid\": \"03749f18-bb7d-11e8-9529-80e6500ae360\"}], {\"title\": \"India\", \"xaxis\": {\"title\": \"GDP ($)\", \"titlefont\": {\"family\": \"Helvetica, monospace\", \"size\": 14}, \"zeroline\": false}, \"yaxis\": {\"title\": \"Slum Population\", \"titlefont\": {\"family\": \"Helvetica, monospace\", \"size\": 14}, \"zeroline\": false}}, {\"showLink\": true, \"linkText\": \"Export to plot.ly\"})});</script>"
      ],
      "text/vnd.plotly.v1+html": [
       "<div id=\"142b3306-10da-43b1-bb40-a8680e831db7\" style=\"height: 525px; width: 100%;\" class=\"plotly-graph-div\"></div><script type=\"text/javascript\">require([\"plotly\"], function(Plotly) { window.PLOTLYENV=window.PLOTLYENV || {};window.PLOTLYENV.BASE_URL=\"https://plot.ly\";Plotly.newPlot(\"142b3306-10da-43b1-bb40-a8680e831db7\", [{\"mode\": \"lines+markers\", \"name\": \"Population Growth vs GDP Growth\", \"x\": [316697337894, 355475984177, 462146799337, 808901077222, 1201111768410, 1323940295874, 2039127446299], \"y\": [477703280, 462952707, 437016128, 398153298, 378677677, 356995418, 310526230], \"type\": \"scatter\", \"uid\": \"03749f18-bb7d-11e8-9529-80e6500ae360\"}], {\"title\": \"India\", \"xaxis\": {\"title\": \"GDP ($)\", \"titlefont\": {\"family\": \"Helvetica, monospace\", \"size\": 14}, \"zeroline\": false}, \"yaxis\": {\"title\": \"Slum Population\", \"titlefont\": {\"family\": \"Helvetica, monospace\", \"size\": 14}, \"zeroline\": false}}, {\"showLink\": true, \"linkText\": \"Export to plot.ly\"})});</script>"
      ]
     },
     "metadata": {},
     "output_type": "display_data"
    },
    {
     "data": {
      "application/vnd.plotly.v1+json": {
       "data": [
        {
         "mode": "lines+markers",
         "name": "Population Growth vs GDP Growth",
         "type": "scatter",
         "uid": "037bfb26-bb7d-11e8-ac21-80e6500ae360",
         "x": [
          8572359162,
          9046326059,
          12705357103,
          18737897744,
          31958195182,
          37021512048,
          61448046801
         ],
         "y": [
          12847976,
          14985857,
          17234864,
          19754461,
          20871078,
          22009750,
          25773580
         ]
        }
       ],
       "layout": {
        "title": "Kenya",
        "xaxis": {
         "title": "GDP ($)",
         "titlefont": {
          "family": "Helvetica, monospace",
          "size": 14
         },
         "zeroline": false
        },
        "yaxis": {
         "title": "Slum Population",
         "titlefont": {
          "family": "Helvetica, monospace",
          "size": 14
         },
         "zeroline": false
        }
       }
      },
      "text/html": [
       "<div id=\"8a5d47b6-0ac7-44fa-b6f0-e20552aaf7ce\" style=\"height: 525px; width: 100%;\" class=\"plotly-graph-div\"></div><script type=\"text/javascript\">require([\"plotly\"], function(Plotly) { window.PLOTLYENV=window.PLOTLYENV || {};window.PLOTLYENV.BASE_URL=\"https://plot.ly\";Plotly.newPlot(\"8a5d47b6-0ac7-44fa-b6f0-e20552aaf7ce\", [{\"mode\": \"lines+markers\", \"name\": \"Population Growth vs GDP Growth\", \"x\": [8572359162, 9046326059, 12705357103, 18737897744, 31958195182, 37021512048, 61448046801], \"y\": [12847976, 14985857, 17234864, 19754461, 20871078, 22009750, 25773580], \"type\": \"scatter\", \"uid\": \"037f9fcc-bb7d-11e8-b07c-80e6500ae360\"}], {\"title\": \"Kenya\", \"xaxis\": {\"title\": \"GDP ($)\", \"titlefont\": {\"family\": \"Helvetica, monospace\", \"size\": 14}, \"zeroline\": false}, \"yaxis\": {\"title\": \"Slum Population\", \"titlefont\": {\"family\": \"Helvetica, monospace\", \"size\": 14}, \"zeroline\": false}}, {\"showLink\": true, \"linkText\": \"Export to plot.ly\"})});</script>"
      ],
      "text/vnd.plotly.v1+html": [
       "<div id=\"8a5d47b6-0ac7-44fa-b6f0-e20552aaf7ce\" style=\"height: 525px; width: 100%;\" class=\"plotly-graph-div\"></div><script type=\"text/javascript\">require([\"plotly\"], function(Plotly) { window.PLOTLYENV=window.PLOTLYENV || {};window.PLOTLYENV.BASE_URL=\"https://plot.ly\";Plotly.newPlot(\"8a5d47b6-0ac7-44fa-b6f0-e20552aaf7ce\", [{\"mode\": \"lines+markers\", \"name\": \"Population Growth vs GDP Growth\", \"x\": [8572359162, 9046326059, 12705357103, 18737897744, 31958195182, 37021512048, 61448046801], \"y\": [12847976, 14985857, 17234864, 19754461, 20871078, 22009750, 25773580], \"type\": \"scatter\", \"uid\": \"037f9fcc-bb7d-11e8-b07c-80e6500ae360\"}], {\"title\": \"Kenya\", \"xaxis\": {\"title\": \"GDP ($)\", \"titlefont\": {\"family\": \"Helvetica, monospace\", \"size\": 14}, \"zeroline\": false}, \"yaxis\": {\"title\": \"Slum Population\", \"titlefont\": {\"family\": \"Helvetica, monospace\", \"size\": 14}, \"zeroline\": false}}, {\"showLink\": true, \"linkText\": \"Export to plot.ly\"})});</script>"
      ]
     },
     "metadata": {},
     "output_type": "display_data"
    },
    {
     "data": {
      "application/vnd.plotly.v1+json": {
       "data": [
        {
         "mode": "lines+markers",
         "name": "Population Growth vs GDP Growth",
         "type": "scatter",
         "uid": "0385e3ac-bb7d-11e8-83db-80e6500ae360",
         "x": [
          262709948090,
          360073909243,
          707906744574,
          877476221382,
          1052696282278,
          900045362045,
          1314385330073
         ],
         "y": [
          19717668,
          20219799,
          20242214,
          15620000,
          16104433,
          16632752,
          13788597
         ]
        }
       ],
       "layout": {
        "title": "Mexico",
        "xaxis": {
         "title": "GDP ($)",
         "titlefont": {
          "family": "Helvetica, monospace",
          "size": 14
         },
         "zeroline": false
        },
        "yaxis": {
         "title": "Slum Population",
         "titlefont": {
          "family": "Helvetica, monospace",
          "size": 14
         },
         "zeroline": false
        }
       }
      },
      "text/html": [
       "<div id=\"6584df22-ae13-4e21-9e08-20641cd6c9b8\" style=\"height: 525px; width: 100%;\" class=\"plotly-graph-div\"></div><script type=\"text/javascript\">require([\"plotly\"], function(Plotly) { window.PLOTLYENV=window.PLOTLYENV || {};window.PLOTLYENV.BASE_URL=\"https://plot.ly\";Plotly.newPlot(\"6584df22-ae13-4e21-9e08-20641cd6c9b8\", [{\"mode\": \"lines+markers\", \"name\": \"Population Growth vs GDP Growth\", \"x\": [262709948090, 360073909243, 707906744574, 877476221382, 1052696282278, 900045362045, 1314385330073], \"y\": [19717668, 20219799, 20242214, 15620000, 16104433, 16632752, 13788597], \"type\": \"scatter\", \"uid\": \"038a2958-bb7d-11e8-b3bc-80e6500ae360\"}], {\"title\": \"Mexico\", \"xaxis\": {\"title\": \"GDP ($)\", \"titlefont\": {\"family\": \"Helvetica, monospace\", \"size\": 14}, \"zeroline\": false}, \"yaxis\": {\"title\": \"Slum Population\", \"titlefont\": {\"family\": \"Helvetica, monospace\", \"size\": 14}, \"zeroline\": false}}, {\"showLink\": true, \"linkText\": \"Export to plot.ly\"})});</script>"
      ],
      "text/vnd.plotly.v1+html": [
       "<div id=\"6584df22-ae13-4e21-9e08-20641cd6c9b8\" style=\"height: 525px; width: 100%;\" class=\"plotly-graph-div\"></div><script type=\"text/javascript\">require([\"plotly\"], function(Plotly) { window.PLOTLYENV=window.PLOTLYENV || {};window.PLOTLYENV.BASE_URL=\"https://plot.ly\";Plotly.newPlot(\"6584df22-ae13-4e21-9e08-20641cd6c9b8\", [{\"mode\": \"lines+markers\", \"name\": \"Population Growth vs GDP Growth\", \"x\": [262709948090, 360073909243, 707906744574, 877476221382, 1052696282278, 900045362045, 1314385330073], \"y\": [19717668, 20219799, 20242214, 15620000, 16104433, 16632752, 13788597], \"type\": \"scatter\", \"uid\": \"038a2958-bb7d-11e8-b3bc-80e6500ae360\"}], {\"title\": \"Mexico\", \"xaxis\": {\"title\": \"GDP ($)\", \"titlefont\": {\"family\": \"Helvetica, monospace\", \"size\": 14}, \"zeroline\": false}, \"yaxis\": {\"title\": \"Slum Population\", \"titlefont\": {\"family\": \"Helvetica, monospace\", \"size\": 14}, \"zeroline\": false}}, {\"showLink\": true, \"linkText\": \"Export to plot.ly\"})});</script>"
      ]
     },
     "metadata": {},
     "output_type": "display_data"
    },
    {
     "data": {
      "application/vnd.plotly.v1+json": {
       "data": [
        {
         "mode": "lines+markers",
         "name": "Population Growth vs GDP Growth",
         "type": "scatter",
         "uid": "038ec7b0-bb7d-11e8-92e0-80e6500ae360",
         "x": [
          40010424928,
          60636022422,
          73952374969,
          109502102510,
          152385716311,
          168152775283,
          244360888750
         ],
         "y": [
          54916093,
          61168915,
          67460839,
          73107091,
          75356497,
          77845104,
          84423546
         ]
        }
       ],
       "layout": {
        "title": "Pakistan",
        "xaxis": {
         "title": "GDP ($)",
         "titlefont": {
          "family": "Helvetica, monospace",
          "size": 14
         },
         "zeroline": false
        },
        "yaxis": {
         "title": "Slum Population",
         "titlefont": {
          "family": "Helvetica, monospace",
          "size": 14
         },
         "zeroline": false
        }
       }
      },
      "text/html": [
       "<div id=\"843d349d-e00d-4cf6-89af-965d2ccda730\" style=\"height: 525px; width: 100%;\" class=\"plotly-graph-div\"></div><script type=\"text/javascript\">require([\"plotly\"], function(Plotly) { window.PLOTLYENV=window.PLOTLYENV || {};window.PLOTLYENV.BASE_URL=\"https://plot.ly\";Plotly.newPlot(\"843d349d-e00d-4cf6-89af-965d2ccda730\", [{\"mode\": \"lines+markers\", \"name\": \"Population Growth vs GDP Growth\", \"x\": [40010424928, 60636022422, 73952374969, 109502102510, 152385716311, 168152775283, 244360888750], \"y\": [54916093, 61168915, 67460839, 73107091, 75356497, 77845104, 84423546], \"type\": \"scatter\", \"uid\": \"03933106-bb7d-11e8-afe5-80e6500ae360\"}], {\"title\": \"Pakistan\", \"xaxis\": {\"title\": \"GDP ($)\", \"titlefont\": {\"family\": \"Helvetica, monospace\", \"size\": 14}, \"zeroline\": false}, \"yaxis\": {\"title\": \"Slum Population\", \"titlefont\": {\"family\": \"Helvetica, monospace\", \"size\": 14}, \"zeroline\": false}}, {\"showLink\": true, \"linkText\": \"Export to plot.ly\"})});</script>"
      ],
      "text/vnd.plotly.v1+html": [
       "<div id=\"843d349d-e00d-4cf6-89af-965d2ccda730\" style=\"height: 525px; width: 100%;\" class=\"plotly-graph-div\"></div><script type=\"text/javascript\">require([\"plotly\"], function(Plotly) { window.PLOTLYENV=window.PLOTLYENV || {};window.PLOTLYENV.BASE_URL=\"https://plot.ly\";Plotly.newPlot(\"843d349d-e00d-4cf6-89af-965d2ccda730\", [{\"mode\": \"lines+markers\", \"name\": \"Population Growth vs GDP Growth\", \"x\": [40010424928, 60636022422, 73952374969, 109502102510, 152385716311, 168152775283, 244360888750], \"y\": [54916093, 61168915, 67460839, 73107091, 75356497, 77845104, 84423546], \"type\": \"scatter\", \"uid\": \"03933106-bb7d-11e8-afe5-80e6500ae360\"}], {\"title\": \"Pakistan\", \"xaxis\": {\"title\": \"GDP ($)\", \"titlefont\": {\"family\": \"Helvetica, monospace\", \"size\": 14}, \"zeroline\": false}, \"yaxis\": {\"title\": \"Slum Population\", \"titlefont\": {\"family\": \"Helvetica, monospace\", \"size\": 14}, \"zeroline\": false}}, {\"showLink\": true, \"linkText\": \"Export to plot.ly\"})});</script>"
      ]
     },
     "metadata": {},
     "output_type": "display_data"
    },
    {
     "data": {
      "application/vnd.plotly.v1+json": {
       "data": [
        {
         "mode": "lines+markers",
         "name": "Population Growth vs GDP Growth",
         "type": "scatter",
         "uid": "0398951a-bb7d-11e8-84bc-80e6500ae360",
         "x": [
          115553279480,
          155460285076,
          136361854808,
          257671413750,
          299033511000,
          297216730668,
          350904575292
         ],
         "y": [
          17352962,
          16709001,
          15181800,
          14011508,
          11474051,
          11723288,
          12544101
         ]
        }
       ],
       "layout": {
        "title": "South Africa",
        "xaxis": {
         "title": "GDP ($)",
         "titlefont": {
          "family": "Helvetica, monospace",
          "size": 14
         },
         "zeroline": false
        },
        "yaxis": {
         "title": "Slum Population",
         "titlefont": {
          "family": "Helvetica, monospace",
          "size": 14
         },
         "zeroline": false
        }
       }
      },
      "text/html": [
       "<div id=\"5a951133-7052-4827-b28d-fb38e4316371\" style=\"height: 525px; width: 100%;\" class=\"plotly-graph-div\"></div><script type=\"text/javascript\">require([\"plotly\"], function(Plotly) { window.PLOTLYENV=window.PLOTLYENV || {};window.PLOTLYENV.BASE_URL=\"https://plot.ly\";Plotly.newPlot(\"5a951133-7052-4827-b28d-fb38e4316371\", [{\"mode\": \"lines+markers\", \"name\": \"Population Growth vs GDP Growth\", \"x\": [115553279480, 155460285076, 136361854808, 257671413750, 299033511000, 297216730668, 350904575292], \"y\": [17352962, 16709001, 15181800, 14011508, 11474051, 11723288, 12544101], \"type\": \"scatter\", \"uid\": \"039d8f98-bb7d-11e8-83a0-80e6500ae360\"}], {\"title\": \"South Africa\", \"xaxis\": {\"title\": \"GDP ($)\", \"titlefont\": {\"family\": \"Helvetica, monospace\", \"size\": 14}, \"zeroline\": false}, \"yaxis\": {\"title\": \"Slum Population\", \"titlefont\": {\"family\": \"Helvetica, monospace\", \"size\": 14}, \"zeroline\": false}}, {\"showLink\": true, \"linkText\": \"Export to plot.ly\"})});</script>"
      ],
      "text/vnd.plotly.v1+html": [
       "<div id=\"5a951133-7052-4827-b28d-fb38e4316371\" style=\"height: 525px; width: 100%;\" class=\"plotly-graph-div\"></div><script type=\"text/javascript\">require([\"plotly\"], function(Plotly) { window.PLOTLYENV=window.PLOTLYENV || {};window.PLOTLYENV.BASE_URL=\"https://plot.ly\";Plotly.newPlot(\"5a951133-7052-4827-b28d-fb38e4316371\", [{\"mode\": \"lines+markers\", \"name\": \"Population Growth vs GDP Growth\", \"x\": [115553279480, 155460285076, 136361854808, 257671413750, 299033511000, 297216730668, 350904575292], \"y\": [17352962, 16709001, 15181800, 14011508, 11474051, 11723288, 12544101], \"type\": \"scatter\", \"uid\": \"039d8f98-bb7d-11e8-83a0-80e6500ae360\"}], {\"title\": \"South Africa\", \"xaxis\": {\"title\": \"GDP ($)\", \"titlefont\": {\"family\": \"Helvetica, monospace\", \"size\": 14}, \"zeroline\": false}, \"yaxis\": {\"title\": \"Slum Population\", \"titlefont\": {\"family\": \"Helvetica, monospace\", \"size\": 14}, \"zeroline\": false}}, {\"showLink\": true, \"linkText\": \"Export to plot.ly\"})});</script>"
      ]
     },
     "metadata": {},
     "output_type": "display_data"
    }
   ],
   "source": [
    "# Population growth and GDP growth have been recognized to have a positive correlation.\n",
    "# I hypothesize that slum population growth and GDP growth will have a negative correlation on the assumption that\n",
    "# the wealthier a nation state becomes the more resources and economic opportunities there will be to lift people out\n",
    "# of poor living conditions and into the middle class.\n",
    "\n",
    "# 1.  slum population % —> urban population —> GDP growth\n",
    "#     1. visualize: \n",
    "#         1. slum population growth (numbers) against GDP growth regression analysis\n",
    "#         2. ... or slum percentage growth rate against GDP growth rate???\n",
    "\n",
    "\n",
    "india_regression = (india , india_gdp, india_slumpops)\n",
    "mexico_regression = (mexico ,mexico_gdp, mexico_slumpops)\n",
    "southafrica_regression = (southafrica ,southafrica_gdp, southafrica_slumpops)\n",
    "pakistan_regression = (pakistan,pakistan_gdp, pakistan_slumpops)\n",
    "kenya_regression = (kenya ,kenya_gdp, kenya_slumpops)\n",
    "\n",
    "def chart_gdp_population(country, country_regression):\n",
    "    country_regression = go.Scatter(\n",
    "        x = country_regression[1],\n",
    "        y = country_regression[2],\n",
    "        mode = 'lines+markers',\n",
    "        name = 'Population Growth vs GDP Growth'\n",
    "    )\n",
    "    \n",
    "    data = [country_regression]\n",
    "\n",
    "    layout = dict(\n",
    "        title = country,\n",
    "        xaxis=dict(\n",
    "            zeroline = False,\n",
    "            title='GDP ($)',\n",
    "            titlefont=dict(\n",
    "                family='Helvetica, monospace',\n",
    "                size=14,\n",
    "            )\n",
    "        ),\n",
    "        yaxis=dict(\n",
    "            zeroline = False,\n",
    "            title='Slum Population',\n",
    "            titlefont=dict(\n",
    "                family='Helvetica, monospace',\n",
    "                size=14,\n",
    "            )\n",
    "        )\n",
    "    )\n",
    "    fig = dict(data=data, layout=layout)\n",
    "\n",
    "    return plotly.offline.iplot(fig)\n",
    "\n",
    "chart_gdp_population(india, india_regression)\n",
    "chart_gdp_population(kenya, kenya_regression)\n",
    "chart_gdp_population(mexico, mexico_regression)\n",
    "chart_gdp_population(pakistan, pakistan_regression)\n",
    "chart_gdp_population(southafrica, southafrica_regression)\n",
    "\n",
    "\n",
    "\n",
    "# def chart_population_and_gdp_traces(country, country_gdp, country_slumpops:\n",
    "#     for \n",
    "\n",
    "# population_and_gdp_traces = []\n",
    "# for country in [(\"India\", india_gdp, india_slumpops), (\"Mexico\", mexico_gdp, mexico_slumpops), (\"South Africa\", southafrica_gdp, southafrica_slumpops), (\"Pakistan\", pakistan_gdp, pakistan_slumpops), (\"Kenya\", kenya_gdp, kenya_slumpops)]:\n",
    "#     population_and_gdp_traces.append({'type': 'scatter', 'x': country[1], 'y': country[2], 'name': country[0]})\n",
    "\n",
    "# layout = go.Layout(\n",
    "#     title='Population Growth x Economic Growth (1990-2014)',\n",
    "#     xaxis=dict(\n",
    "#         title='GDP ($)',\n",
    "#         titlefont=dict(\n",
    "#             family='Helvetica, monospace',\n",
    "#             size=14,\n",
    "#             color='#7f7f7f'\n",
    "#         )\n",
    "#     ),\n",
    "#     yaxis=dict(\n",
    "#         title='Slum Population',\n",
    "#         titlefont=dict(\n",
    "#             family='Helvetica, monospace',\n",
    "#             size=14,\n",
    "#             color='#7f7f7f'\n",
    "#         )\n",
    "#     )\n",
    "# )\n",
    "# fig = go.Figure(data=population_and_gdp_traces, layout=layout)\n",
    "# plotly.offline.iplot(fig, filename='styling-names')"
   ]
  },
  {
   "cell_type": "code",
   "execution_count": null,
   "metadata": {},
   "outputs": [],
   "source": [
    "from scipy import stats\n",
    "\n",
    "x = india_gdp\n",
    "y = india_slumpops\n",
    "slope, intercept, r_value, p_value, std_err = stats.linregress(x, y)\n",
    "\n",
    "print(\"r-squared:\", r_value**2)\n",
    "\n",
    "plt.plot(x, y, 'o', label='original data')\n",
    "plt.plot(x, intercept + slope*x, 'r', label='fitted line')\n",
    "plt.legend()\n",
    "plt.show()"
   ]
  },
  {
   "cell_type": "code",
   "execution_count": 42,
   "metadata": {},
   "outputs": [],
   "source": [
    "#     2. anomalies due to: \n",
    "#         1. slum population is increasing because total population is increasing? \n",
    "#         2. even though GDP growth is increasing it is lower than median of the world? (\n",
    "#         3. (decrease in rural economy, increase in rate of industrialization (or service work?) causing faster urban migration)\n",
    "#         4. (relative increase/decrease of investment in sustainable urban development)"
   ]
  },
  {
   "cell_type": "code",
   "execution_count": null,
   "metadata": {},
   "outputs": [],
   "source": [
    "# 2. project how many years it will take in order to decrease slum population (India) \n",
    "#     1. forecast using regression for India\n"
   ]
  },
  {
   "cell_type": "code",
   "execution_count": null,
   "metadata": {},
   "outputs": [],
   "source": [
    "# 3. OR assuming that slum population growth + GDP growth have a correlation, what is the GDP growth that will be needed to reverse the trend for countries with increasing slum population (rest of the countries)?? (maybe not)\n",
    "#     1. research how to calculate trend reversal***\n"
   ]
  },
  {
   "cell_type": "code",
   "execution_count": null,
   "metadata": {},
   "outputs": [],
   "source": [
    "# 4. (next analyze—> how much money is each country investing in sustainable urban development (World Bank))"
   ]
  }
 ],
 "metadata": {
  "kernelspec": {
   "display_name": "Python 3",
   "language": "python",
   "name": "python3"
  },
  "language_info": {
   "codemirror_mode": {
    "name": "ipython",
    "version": 3
   },
   "file_extension": ".py",
   "mimetype": "text/x-python",
   "name": "python",
   "nbconvert_exporter": "python",
   "pygments_lexer": "ipython3",
   "version": "3.6.5"
  }
 },
 "nbformat": 4,
 "nbformat_minor": 2
}
